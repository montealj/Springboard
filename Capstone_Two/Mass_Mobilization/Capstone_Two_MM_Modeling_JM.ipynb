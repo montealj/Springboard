{
 "cells": [
  {
   "cell_type": "code",
   "execution_count": 3,
   "metadata": {},
   "outputs": [],
   "source": [
    "import numpy as np\n",
    "import pandas as pd\n",
    "from pandas_profiling import ProfileReport\n",
    "import matplotlib.pyplot as plt\n",
    "from matplotlib import rc\n",
    "import seaborn as sns\n",
    "import os\n",
    "import datetime as dt\n",
    "from scipy.stats import chi2_contingency\n",
    "from scipy.stats import chi2\n",
    "from sklearn.model_selection import train_test_split\n",
    "from sklearn.ensemble import RandomForestRegressor\n",
    "from sklearn.inspection import permutation_importance\n",
    "\n",
    "%config IPCompleter.greedy=True"
   ]
  },
  {
   "cell_type": "code",
   "execution_count": 4,
   "metadata": {
    "scrolled": true
   },
   "outputs": [
    {
     "name": "stdout",
     "output_type": "stream",
     "text": [
      "/Users/montealvo/Documents/SB_DataScience/Capstone/Mass_Mobilization\n"
     ]
    }
   ],
   "source": [
    "print(os.getcwd())"
   ]
  },
  {
   "cell_type": "code",
   "execution_count": 5,
   "metadata": {},
   "outputs": [],
   "source": [
    "SMALL_SIZE = 8\n",
    "MEDIUM_SIZE = 10\n",
    "BIGGER_SIZE = 12\n",
    "\n",
    "plt.rc('font', size=SMALL_SIZE)          # controls default text sizes\n",
    "plt.rc('axes', titlesize=SMALL_SIZE)     # fontsize of the axes title\n",
    "plt.rc('axes', labelsize=MEDIUM_SIZE)    # fontsize of the x and y labels\n",
    "plt.rc('xtick', labelsize=SMALL_SIZE)    # fontsize of the tick labels\n",
    "plt.rc('ytick', labelsize=SMALL_SIZE)    # fontsize of the tick labels\n",
    "plt.rc('legend', fontsize=SMALL_SIZE)    # legend fontsize\n",
    "plt.rc('figure', titlesize=BIGGER_SIZE)  # fontsize of the figure title"
   ]
  },
  {
   "cell_type": "markdown",
   "metadata": {},
   "source": [
    "### Table of Contents\n",
    "\n",
    "   * [Data Loading](#data_load)\n",
    "   * [Feature Importance](#feat_import)  \n",
    "   * [Logistic Regression](#Log) \n",
    "   * [Random Forest](#random_forest) \n",
    "   * [Gradient Boosting](#gradient) \n"
   ]
  },
  {
   "cell_type": "markdown",
   "metadata": {},
   "source": [
    "## Data loading <a class=\"anchor\" id=\"data_load\"></a>"
   ]
  },
  {
   "cell_type": "markdown",
   "metadata": {},
   "source": [
    "Importing file from where we left off after EDA."
   ]
  },
  {
   "cell_type": "code",
   "execution_count": 6,
   "metadata": {},
   "outputs": [],
   "source": [
    "df3 = pd.read_csv('../Mass_Mobilization/df3.csv')"
   ]
  },
  {
   "cell_type": "code",
   "execution_count": 7,
   "metadata": {
    "scrolled": true
   },
   "outputs": [
    {
     "data": {
      "text/html": [
       "<div>\n",
       "<style scoped>\n",
       "    .dataframe tbody tr th:only-of-type {\n",
       "        vertical-align: middle;\n",
       "    }\n",
       "\n",
       "    .dataframe tbody tr th {\n",
       "        vertical-align: top;\n",
       "    }\n",
       "\n",
       "    .dataframe thead th {\n",
       "        text-align: right;\n",
       "    }\n",
       "</style>\n",
       "<table border=\"1\" class=\"dataframe\">\n",
       "  <thead>\n",
       "    <tr style=\"text-align: right;\">\n",
       "      <th></th>\n",
       "      <th>country</th>\n",
       "      <th>region</th>\n",
       "      <th>year</th>\n",
       "      <th>startmonth</th>\n",
       "      <th>participants_int</th>\n",
       "      <th>new_participants_category</th>\n",
       "      <th>labor_wage_dispute</th>\n",
       "      <th>land_farm_issue</th>\n",
       "      <th>police_brutality</th>\n",
       "      <th>political_behavior</th>\n",
       "      <th>...</th>\n",
       "      <th>demands_count</th>\n",
       "      <th>responses_count</th>\n",
       "      <th>start_date</th>\n",
       "      <th>end_date</th>\n",
       "      <th>protesterviolence</th>\n",
       "      <th>Violent_Response</th>\n",
       "      <th>hemisphere</th>\n",
       "      <th>season</th>\n",
       "      <th>dur_column</th>\n",
       "      <th>dur_column2</th>\n",
       "    </tr>\n",
       "  </thead>\n",
       "  <tbody>\n",
       "    <tr>\n",
       "      <th>0</th>\n",
       "      <td>Canada</td>\n",
       "      <td>North America</td>\n",
       "      <td>1990</td>\n",
       "      <td>1.0</td>\n",
       "      <td>1500.0</td>\n",
       "      <td>1000-1999</td>\n",
       "      <td>True</td>\n",
       "      <td>False</td>\n",
       "      <td>False</td>\n",
       "      <td>True</td>\n",
       "      <td>...</td>\n",
       "      <td>2</td>\n",
       "      <td>1</td>\n",
       "      <td>1990-01-15</td>\n",
       "      <td>1990-01-15</td>\n",
       "      <td>False</td>\n",
       "      <td>False</td>\n",
       "      <td>northern</td>\n",
       "      <td>winter</td>\n",
       "      <td>1</td>\n",
       "      <td>1</td>\n",
       "    </tr>\n",
       "    <tr>\n",
       "      <th>1</th>\n",
       "      <td>Canada</td>\n",
       "      <td>North America</td>\n",
       "      <td>1990</td>\n",
       "      <td>6.0</td>\n",
       "      <td>1000.0</td>\n",
       "      <td>1000-1999</td>\n",
       "      <td>False</td>\n",
       "      <td>False</td>\n",
       "      <td>False</td>\n",
       "      <td>True</td>\n",
       "      <td>...</td>\n",
       "      <td>1</td>\n",
       "      <td>1</td>\n",
       "      <td>1990-06-25</td>\n",
       "      <td>1990-06-25</td>\n",
       "      <td>False</td>\n",
       "      <td>False</td>\n",
       "      <td>northern</td>\n",
       "      <td>summer</td>\n",
       "      <td>1</td>\n",
       "      <td>1</td>\n",
       "    </tr>\n",
       "    <tr>\n",
       "      <th>2</th>\n",
       "      <td>Canada</td>\n",
       "      <td>North America</td>\n",
       "      <td>1990</td>\n",
       "      <td>7.0</td>\n",
       "      <td>500.0</td>\n",
       "      <td>100-999</td>\n",
       "      <td>False</td>\n",
       "      <td>False</td>\n",
       "      <td>False</td>\n",
       "      <td>True</td>\n",
       "      <td>...</td>\n",
       "      <td>1</td>\n",
       "      <td>1</td>\n",
       "      <td>1990-07-01</td>\n",
       "      <td>1990-07-01</td>\n",
       "      <td>False</td>\n",
       "      <td>False</td>\n",
       "      <td>northern</td>\n",
       "      <td>summer</td>\n",
       "      <td>1</td>\n",
       "      <td>1</td>\n",
       "    </tr>\n",
       "    <tr>\n",
       "      <th>3</th>\n",
       "      <td>Canada</td>\n",
       "      <td>North America</td>\n",
       "      <td>1990</td>\n",
       "      <td>7.0</td>\n",
       "      <td>550.0</td>\n",
       "      <td>100-999</td>\n",
       "      <td>False</td>\n",
       "      <td>True</td>\n",
       "      <td>False</td>\n",
       "      <td>False</td>\n",
       "      <td>...</td>\n",
       "      <td>1</td>\n",
       "      <td>1</td>\n",
       "      <td>1990-07-12</td>\n",
       "      <td>1990-09-06</td>\n",
       "      <td>True</td>\n",
       "      <td>False</td>\n",
       "      <td>northern</td>\n",
       "      <td>summer</td>\n",
       "      <td>57</td>\n",
       "      <td>7+</td>\n",
       "    </tr>\n",
       "    <tr>\n",
       "      <th>4</th>\n",
       "      <td>Canada</td>\n",
       "      <td>North America</td>\n",
       "      <td>1990</td>\n",
       "      <td>8.0</td>\n",
       "      <td>950.0</td>\n",
       "      <td>100-999</td>\n",
       "      <td>False</td>\n",
       "      <td>False</td>\n",
       "      <td>False</td>\n",
       "      <td>True</td>\n",
       "      <td>...</td>\n",
       "      <td>1</td>\n",
       "      <td>3</td>\n",
       "      <td>1990-08-14</td>\n",
       "      <td>1990-08-15</td>\n",
       "      <td>True</td>\n",
       "      <td>False</td>\n",
       "      <td>northern</td>\n",
       "      <td>summer</td>\n",
       "      <td>2</td>\n",
       "      <td>2</td>\n",
       "    </tr>\n",
       "  </tbody>\n",
       "</table>\n",
       "<p>5 rows × 43 columns</p>\n",
       "</div>"
      ],
      "text/plain": [
       "  country         region  year  startmonth  participants_int  \\\n",
       "0  Canada  North America  1990         1.0            1500.0   \n",
       "1  Canada  North America  1990         6.0            1000.0   \n",
       "2  Canada  North America  1990         7.0             500.0   \n",
       "3  Canada  North America  1990         7.0             550.0   \n",
       "4  Canada  North America  1990         8.0             950.0   \n",
       "\n",
       "  new_participants_category  labor_wage_dispute  land_farm_issue  \\\n",
       "0                 1000-1999                True            False   \n",
       "1                 1000-1999               False            False   \n",
       "2                   100-999               False            False   \n",
       "3                   100-999               False             True   \n",
       "4                   100-999               False            False   \n",
       "\n",
       "   police_brutality  political_behavior  ...  demands_count  responses_count  \\\n",
       "0             False                True  ...              2                1   \n",
       "1             False                True  ...              1                1   \n",
       "2             False                True  ...              1                1   \n",
       "3             False               False  ...              1                1   \n",
       "4             False                True  ...              1                3   \n",
       "\n",
       "   start_date    end_date protesterviolence Violent_Response hemisphere  \\\n",
       "0  1990-01-15  1990-01-15             False            False   northern   \n",
       "1  1990-06-25  1990-06-25             False            False   northern   \n",
       "2  1990-07-01  1990-07-01             False            False   northern   \n",
       "3  1990-07-12  1990-09-06              True            False   northern   \n",
       "4  1990-08-14  1990-08-15              True            False   northern   \n",
       "\n",
       "   season dur_column dur_column2  \n",
       "0  winter          1           1  \n",
       "1  summer          1           1  \n",
       "2  summer          1           1  \n",
       "3  summer         57          7+  \n",
       "4  summer          2           2  \n",
       "\n",
       "[5 rows x 43 columns]"
      ]
     },
     "execution_count": 7,
     "metadata": {},
     "output_type": "execute_result"
    }
   ],
   "source": [
    "df3.head()"
   ]
  },
  {
   "cell_type": "code",
   "execution_count": 8,
   "metadata": {},
   "outputs": [
    {
     "name": "stdout",
     "output_type": "stream",
     "text": [
      "<class 'pandas.core.frame.DataFrame'>\n",
      "RangeIndex: 14482 entries, 0 to 14481\n",
      "Data columns (total 43 columns):\n",
      " #   Column                      Non-Null Count  Dtype  \n",
      "---  ------                      --------------  -----  \n",
      " 0   country                     14482 non-null  object \n",
      " 1   region                      14482 non-null  object \n",
      " 2   year                        14482 non-null  int64  \n",
      " 3   startmonth                  14482 non-null  float64\n",
      " 4   participants_int            14465 non-null  float64\n",
      " 5   new_participants_category   14465 non-null  object \n",
      " 6   labor_wage_dispute          14482 non-null  bool   \n",
      " 7   land_farm_issue             14482 non-null  bool   \n",
      " 8   police_brutality            14482 non-null  bool   \n",
      " 9   political_behavior          14482 non-null  bool   \n",
      " 10  price_increases_tax_policy  14482 non-null  bool   \n",
      " 11  removal_of_politician       14482 non-null  bool   \n",
      " 12  social_restrictions         14482 non-null  bool   \n",
      " 13  protesterdemand1_y          14482 non-null  object \n",
      " 14  protesterdemand2_y          2665 non-null   object \n",
      " 15  protesterdemand3_y          314 non-null    object \n",
      " 16  protesterdemand4_y          21 non-null     object \n",
      " 17  stateresponse1_y            14480 non-null  object \n",
      " 18  stateresponse2_y            2714 non-null   object \n",
      " 19  stateresponse3_y            848 non-null    object \n",
      " 20  stateresponse4_y            230 non-null    object \n",
      " 21  stateresponse5_y            52 non-null     object \n",
      " 22  stateresponse6_y            16 non-null     object \n",
      " 23  stateresponse7_y            7 non-null      object \n",
      " 24  accomodation                14482 non-null  bool   \n",
      " 25  arrests                     14482 non-null  bool   \n",
      " 26  beatings                    14482 non-null  bool   \n",
      " 27  crowd_dispersal             14482 non-null  bool   \n",
      " 28  ignore                      14482 non-null  bool   \n",
      " 29  killings                    14482 non-null  bool   \n",
      " 30  shootings                   14482 non-null  bool   \n",
      " 31  first_response              14482 non-null  object \n",
      " 32  last_response               14482 non-null  object \n",
      " 33  demands_count               14482 non-null  int64  \n",
      " 34  responses_count             14482 non-null  int64  \n",
      " 35  start_date                  14482 non-null  object \n",
      " 36  end_date                    14482 non-null  object \n",
      " 37  protesterviolence           14482 non-null  bool   \n",
      " 38  Violent_Response            14482 non-null  bool   \n",
      " 39  hemisphere                  14482 non-null  object \n",
      " 40  season                      14482 non-null  object \n",
      " 41  dur_column                  14482 non-null  int64  \n",
      " 42  dur_column2                 14482 non-null  object \n",
      "dtypes: bool(16), float64(2), int64(4), object(21)\n",
      "memory usage: 3.2+ MB\n"
     ]
    }
   ],
   "source": [
    "df3.info()"
   ]
  },
  {
   "cell_type": "code",
   "execution_count": 9,
   "metadata": {},
   "outputs": [],
   "source": [
    "df_target = df3[['Violent_Response']]"
   ]
  },
  {
   "cell_type": "code",
   "execution_count": 10,
   "metadata": {},
   "outputs": [
    {
     "data": {
      "text/html": [
       "<div>\n",
       "<style scoped>\n",
       "    .dataframe tbody tr th:only-of-type {\n",
       "        vertical-align: middle;\n",
       "    }\n",
       "\n",
       "    .dataframe tbody tr th {\n",
       "        vertical-align: top;\n",
       "    }\n",
       "\n",
       "    .dataframe thead th {\n",
       "        text-align: right;\n",
       "    }\n",
       "</style>\n",
       "<table border=\"1\" class=\"dataframe\">\n",
       "  <thead>\n",
       "    <tr style=\"text-align: right;\">\n",
       "      <th></th>\n",
       "      <th>Violent_Response</th>\n",
       "    </tr>\n",
       "  </thead>\n",
       "  <tbody>\n",
       "    <tr>\n",
       "      <th>0</th>\n",
       "      <td>False</td>\n",
       "    </tr>\n",
       "    <tr>\n",
       "      <th>1</th>\n",
       "      <td>False</td>\n",
       "    </tr>\n",
       "    <tr>\n",
       "      <th>2</th>\n",
       "      <td>False</td>\n",
       "    </tr>\n",
       "    <tr>\n",
       "      <th>3</th>\n",
       "      <td>False</td>\n",
       "    </tr>\n",
       "    <tr>\n",
       "      <th>4</th>\n",
       "      <td>False</td>\n",
       "    </tr>\n",
       "  </tbody>\n",
       "</table>\n",
       "</div>"
      ],
      "text/plain": [
       "   Violent_Response\n",
       "0             False\n",
       "1             False\n",
       "2             False\n",
       "3             False\n",
       "4             False"
      ]
     },
     "execution_count": 10,
     "metadata": {},
     "output_type": "execute_result"
    }
   ],
   "source": [
    "df_target.head()"
   ]
  },
  {
   "cell_type": "code",
   "execution_count": 11,
   "metadata": {
    "scrolled": true
   },
   "outputs": [],
   "source": [
    "#dropping \"duplicate\" columns that are represented elsewhere in the df, as well as any target data and \"future\" data\n",
    "df3.drop(columns=['participants_int','protesterdemand1_y','protesterdemand2_y','protesterdemand3_y','protesterdemand4_y','stateresponse1_y','stateresponse2_y','stateresponse3_y','stateresponse4_y','stateresponse5_y','stateresponse6_y','stateresponse7_y', 'start_date','end_date','Violent_Response','accomodation','arrests','beatings','crowd_dispersal','ignore','killings','shootings','first_response','last_response', 'responses_count','protesterviolence','dur_column','dur_column2' ] , inplace=True)"
   ]
  },
  {
   "cell_type": "code",
   "execution_count": 12,
   "metadata": {
    "scrolled": true
   },
   "outputs": [
    {
     "name": "stdout",
     "output_type": "stream",
     "text": [
      "<class 'pandas.core.frame.DataFrame'>\n",
      "RangeIndex: 14482 entries, 0 to 14481\n",
      "Data columns (total 15 columns):\n",
      " #   Column                      Non-Null Count  Dtype  \n",
      "---  ------                      --------------  -----  \n",
      " 0   country                     14482 non-null  object \n",
      " 1   region                      14482 non-null  object \n",
      " 2   year                        14482 non-null  int64  \n",
      " 3   startmonth                  14482 non-null  float64\n",
      " 4   new_participants_category   14465 non-null  object \n",
      " 5   labor_wage_dispute          14482 non-null  bool   \n",
      " 6   land_farm_issue             14482 non-null  bool   \n",
      " 7   police_brutality            14482 non-null  bool   \n",
      " 8   political_behavior          14482 non-null  bool   \n",
      " 9   price_increases_tax_policy  14482 non-null  bool   \n",
      " 10  removal_of_politician       14482 non-null  bool   \n",
      " 11  social_restrictions         14482 non-null  bool   \n",
      " 12  demands_count               14482 non-null  int64  \n",
      " 13  hemisphere                  14482 non-null  object \n",
      " 14  season                      14482 non-null  object \n",
      "dtypes: bool(7), float64(1), int64(2), object(5)\n",
      "memory usage: 1004.2+ KB\n"
     ]
    }
   ],
   "source": [
    "df3.info()"
   ]
  },
  {
   "cell_type": "code",
   "execution_count": 13,
   "metadata": {},
   "outputs": [],
   "source": [
    "#Creating new df with dummy columns\n",
    "df_encoded = pd.get_dummies(df3, columns=None)"
   ]
  },
  {
   "cell_type": "code",
   "execution_count": 14,
   "metadata": {},
   "outputs": [
    {
     "data": {
      "text/html": [
       "<div>\n",
       "<style scoped>\n",
       "    .dataframe tbody tr th:only-of-type {\n",
       "        vertical-align: middle;\n",
       "    }\n",
       "\n",
       "    .dataframe tbody tr th {\n",
       "        vertical-align: top;\n",
       "    }\n",
       "\n",
       "    .dataframe thead th {\n",
       "        text-align: right;\n",
       "    }\n",
       "</style>\n",
       "<table border=\"1\" class=\"dataframe\">\n",
       "  <thead>\n",
       "    <tr style=\"text-align: right;\">\n",
       "      <th></th>\n",
       "      <th>year</th>\n",
       "      <th>startmonth</th>\n",
       "      <th>labor_wage_dispute</th>\n",
       "      <th>land_farm_issue</th>\n",
       "      <th>police_brutality</th>\n",
       "      <th>political_behavior</th>\n",
       "      <th>price_increases_tax_policy</th>\n",
       "      <th>removal_of_politician</th>\n",
       "      <th>social_restrictions</th>\n",
       "      <th>demands_count</th>\n",
       "      <th>...</th>\n",
       "      <th>new_participants_category_2000-4999</th>\n",
       "      <th>new_participants_category_50-99</th>\n",
       "      <th>new_participants_category_5000-10000</th>\n",
       "      <th>new_participants_category_&gt;10000</th>\n",
       "      <th>hemisphere_northern</th>\n",
       "      <th>hemisphere_southern</th>\n",
       "      <th>season_autumn</th>\n",
       "      <th>season_spring</th>\n",
       "      <th>season_summer</th>\n",
       "      <th>season_winter</th>\n",
       "    </tr>\n",
       "  </thead>\n",
       "  <tbody>\n",
       "    <tr>\n",
       "      <th>0</th>\n",
       "      <td>1990</td>\n",
       "      <td>1.0</td>\n",
       "      <td>True</td>\n",
       "      <td>False</td>\n",
       "      <td>False</td>\n",
       "      <td>True</td>\n",
       "      <td>False</td>\n",
       "      <td>False</td>\n",
       "      <td>False</td>\n",
       "      <td>2</td>\n",
       "      <td>...</td>\n",
       "      <td>0</td>\n",
       "      <td>0</td>\n",
       "      <td>0</td>\n",
       "      <td>0</td>\n",
       "      <td>1</td>\n",
       "      <td>0</td>\n",
       "      <td>0</td>\n",
       "      <td>0</td>\n",
       "      <td>0</td>\n",
       "      <td>1</td>\n",
       "    </tr>\n",
       "    <tr>\n",
       "      <th>1</th>\n",
       "      <td>1990</td>\n",
       "      <td>6.0</td>\n",
       "      <td>False</td>\n",
       "      <td>False</td>\n",
       "      <td>False</td>\n",
       "      <td>True</td>\n",
       "      <td>False</td>\n",
       "      <td>False</td>\n",
       "      <td>False</td>\n",
       "      <td>1</td>\n",
       "      <td>...</td>\n",
       "      <td>0</td>\n",
       "      <td>0</td>\n",
       "      <td>0</td>\n",
       "      <td>0</td>\n",
       "      <td>1</td>\n",
       "      <td>0</td>\n",
       "      <td>0</td>\n",
       "      <td>0</td>\n",
       "      <td>1</td>\n",
       "      <td>0</td>\n",
       "    </tr>\n",
       "    <tr>\n",
       "      <th>2</th>\n",
       "      <td>1990</td>\n",
       "      <td>7.0</td>\n",
       "      <td>False</td>\n",
       "      <td>False</td>\n",
       "      <td>False</td>\n",
       "      <td>True</td>\n",
       "      <td>False</td>\n",
       "      <td>False</td>\n",
       "      <td>False</td>\n",
       "      <td>1</td>\n",
       "      <td>...</td>\n",
       "      <td>0</td>\n",
       "      <td>0</td>\n",
       "      <td>0</td>\n",
       "      <td>0</td>\n",
       "      <td>1</td>\n",
       "      <td>0</td>\n",
       "      <td>0</td>\n",
       "      <td>0</td>\n",
       "      <td>1</td>\n",
       "      <td>0</td>\n",
       "    </tr>\n",
       "    <tr>\n",
       "      <th>3</th>\n",
       "      <td>1990</td>\n",
       "      <td>7.0</td>\n",
       "      <td>False</td>\n",
       "      <td>True</td>\n",
       "      <td>False</td>\n",
       "      <td>False</td>\n",
       "      <td>False</td>\n",
       "      <td>False</td>\n",
       "      <td>False</td>\n",
       "      <td>1</td>\n",
       "      <td>...</td>\n",
       "      <td>0</td>\n",
       "      <td>0</td>\n",
       "      <td>0</td>\n",
       "      <td>0</td>\n",
       "      <td>1</td>\n",
       "      <td>0</td>\n",
       "      <td>0</td>\n",
       "      <td>0</td>\n",
       "      <td>1</td>\n",
       "      <td>0</td>\n",
       "    </tr>\n",
       "    <tr>\n",
       "      <th>4</th>\n",
       "      <td>1990</td>\n",
       "      <td>8.0</td>\n",
       "      <td>False</td>\n",
       "      <td>False</td>\n",
       "      <td>False</td>\n",
       "      <td>True</td>\n",
       "      <td>False</td>\n",
       "      <td>False</td>\n",
       "      <td>False</td>\n",
       "      <td>1</td>\n",
       "      <td>...</td>\n",
       "      <td>0</td>\n",
       "      <td>0</td>\n",
       "      <td>0</td>\n",
       "      <td>0</td>\n",
       "      <td>1</td>\n",
       "      <td>0</td>\n",
       "      <td>0</td>\n",
       "      <td>0</td>\n",
       "      <td>1</td>\n",
       "      <td>0</td>\n",
       "    </tr>\n",
       "    <tr>\n",
       "      <th>...</th>\n",
       "      <td>...</td>\n",
       "      <td>...</td>\n",
       "      <td>...</td>\n",
       "      <td>...</td>\n",
       "      <td>...</td>\n",
       "      <td>...</td>\n",
       "      <td>...</td>\n",
       "      <td>...</td>\n",
       "      <td>...</td>\n",
       "      <td>...</td>\n",
       "      <td>...</td>\n",
       "      <td>...</td>\n",
       "      <td>...</td>\n",
       "      <td>...</td>\n",
       "      <td>...</td>\n",
       "      <td>...</td>\n",
       "      <td>...</td>\n",
       "      <td>...</td>\n",
       "      <td>...</td>\n",
       "      <td>...</td>\n",
       "      <td>...</td>\n",
       "    </tr>\n",
       "    <tr>\n",
       "      <th>14477</th>\n",
       "      <td>2014</td>\n",
       "      <td>2.0</td>\n",
       "      <td>False</td>\n",
       "      <td>False</td>\n",
       "      <td>False</td>\n",
       "      <td>True</td>\n",
       "      <td>False</td>\n",
       "      <td>False</td>\n",
       "      <td>False</td>\n",
       "      <td>1</td>\n",
       "      <td>...</td>\n",
       "      <td>0</td>\n",
       "      <td>0</td>\n",
       "      <td>0</td>\n",
       "      <td>0</td>\n",
       "      <td>0</td>\n",
       "      <td>1</td>\n",
       "      <td>0</td>\n",
       "      <td>0</td>\n",
       "      <td>1</td>\n",
       "      <td>0</td>\n",
       "    </tr>\n",
       "    <tr>\n",
       "      <th>14478</th>\n",
       "      <td>2016</td>\n",
       "      <td>5.0</td>\n",
       "      <td>False</td>\n",
       "      <td>False</td>\n",
       "      <td>False</td>\n",
       "      <td>False</td>\n",
       "      <td>False</td>\n",
       "      <td>True</td>\n",
       "      <td>False</td>\n",
       "      <td>1</td>\n",
       "      <td>...</td>\n",
       "      <td>0</td>\n",
       "      <td>0</td>\n",
       "      <td>0</td>\n",
       "      <td>0</td>\n",
       "      <td>0</td>\n",
       "      <td>1</td>\n",
       "      <td>1</td>\n",
       "      <td>0</td>\n",
       "      <td>0</td>\n",
       "      <td>0</td>\n",
       "    </tr>\n",
       "    <tr>\n",
       "      <th>14479</th>\n",
       "      <td>2017</td>\n",
       "      <td>6.0</td>\n",
       "      <td>False</td>\n",
       "      <td>True</td>\n",
       "      <td>False</td>\n",
       "      <td>True</td>\n",
       "      <td>False</td>\n",
       "      <td>False</td>\n",
       "      <td>False</td>\n",
       "      <td>2</td>\n",
       "      <td>...</td>\n",
       "      <td>0</td>\n",
       "      <td>1</td>\n",
       "      <td>0</td>\n",
       "      <td>0</td>\n",
       "      <td>0</td>\n",
       "      <td>1</td>\n",
       "      <td>0</td>\n",
       "      <td>0</td>\n",
       "      <td>0</td>\n",
       "      <td>1</td>\n",
       "    </tr>\n",
       "    <tr>\n",
       "      <th>14480</th>\n",
       "      <td>2017</td>\n",
       "      <td>7.0</td>\n",
       "      <td>False</td>\n",
       "      <td>False</td>\n",
       "      <td>False</td>\n",
       "      <td>True</td>\n",
       "      <td>False</td>\n",
       "      <td>False</td>\n",
       "      <td>False</td>\n",
       "      <td>1</td>\n",
       "      <td>...</td>\n",
       "      <td>0</td>\n",
       "      <td>1</td>\n",
       "      <td>0</td>\n",
       "      <td>0</td>\n",
       "      <td>0</td>\n",
       "      <td>1</td>\n",
       "      <td>0</td>\n",
       "      <td>0</td>\n",
       "      <td>0</td>\n",
       "      <td>1</td>\n",
       "    </tr>\n",
       "    <tr>\n",
       "      <th>14481</th>\n",
       "      <td>2017</td>\n",
       "      <td>10.0</td>\n",
       "      <td>False</td>\n",
       "      <td>False</td>\n",
       "      <td>False</td>\n",
       "      <td>True</td>\n",
       "      <td>False</td>\n",
       "      <td>False</td>\n",
       "      <td>False</td>\n",
       "      <td>1</td>\n",
       "      <td>...</td>\n",
       "      <td>0</td>\n",
       "      <td>0</td>\n",
       "      <td>0</td>\n",
       "      <td>0</td>\n",
       "      <td>0</td>\n",
       "      <td>1</td>\n",
       "      <td>0</td>\n",
       "      <td>1</td>\n",
       "      <td>0</td>\n",
       "      <td>0</td>\n",
       "    </tr>\n",
       "  </tbody>\n",
       "</table>\n",
       "<p>14482 rows × 197 columns</p>\n",
       "</div>"
      ],
      "text/plain": [
       "       year  startmonth  labor_wage_dispute  land_farm_issue  \\\n",
       "0      1990         1.0                True            False   \n",
       "1      1990         6.0               False            False   \n",
       "2      1990         7.0               False            False   \n",
       "3      1990         7.0               False             True   \n",
       "4      1990         8.0               False            False   \n",
       "...     ...         ...                 ...              ...   \n",
       "14477  2014         2.0               False            False   \n",
       "14478  2016         5.0               False            False   \n",
       "14479  2017         6.0               False             True   \n",
       "14480  2017         7.0               False            False   \n",
       "14481  2017        10.0               False            False   \n",
       "\n",
       "       police_brutality  political_behavior  price_increases_tax_policy  \\\n",
       "0                 False                True                       False   \n",
       "1                 False                True                       False   \n",
       "2                 False                True                       False   \n",
       "3                 False               False                       False   \n",
       "4                 False                True                       False   \n",
       "...                 ...                 ...                         ...   \n",
       "14477             False                True                       False   \n",
       "14478             False               False                       False   \n",
       "14479             False                True                       False   \n",
       "14480             False                True                       False   \n",
       "14481             False                True                       False   \n",
       "\n",
       "       removal_of_politician  social_restrictions  demands_count  ...  \\\n",
       "0                      False                False              2  ...   \n",
       "1                      False                False              1  ...   \n",
       "2                      False                False              1  ...   \n",
       "3                      False                False              1  ...   \n",
       "4                      False                False              1  ...   \n",
       "...                      ...                  ...            ...  ...   \n",
       "14477                  False                False              1  ...   \n",
       "14478                   True                False              1  ...   \n",
       "14479                  False                False              2  ...   \n",
       "14480                  False                False              1  ...   \n",
       "14481                  False                False              1  ...   \n",
       "\n",
       "       new_participants_category_2000-4999  new_participants_category_50-99  \\\n",
       "0                                        0                                0   \n",
       "1                                        0                                0   \n",
       "2                                        0                                0   \n",
       "3                                        0                                0   \n",
       "4                                        0                                0   \n",
       "...                                    ...                              ...   \n",
       "14477                                    0                                0   \n",
       "14478                                    0                                0   \n",
       "14479                                    0                                1   \n",
       "14480                                    0                                1   \n",
       "14481                                    0                                0   \n",
       "\n",
       "       new_participants_category_5000-10000  new_participants_category_>10000  \\\n",
       "0                                         0                                 0   \n",
       "1                                         0                                 0   \n",
       "2                                         0                                 0   \n",
       "3                                         0                                 0   \n",
       "4                                         0                                 0   \n",
       "...                                     ...                               ...   \n",
       "14477                                     0                                 0   \n",
       "14478                                     0                                 0   \n",
       "14479                                     0                                 0   \n",
       "14480                                     0                                 0   \n",
       "14481                                     0                                 0   \n",
       "\n",
       "       hemisphere_northern  hemisphere_southern  season_autumn  season_spring  \\\n",
       "0                        1                    0              0              0   \n",
       "1                        1                    0              0              0   \n",
       "2                        1                    0              0              0   \n",
       "3                        1                    0              0              0   \n",
       "4                        1                    0              0              0   \n",
       "...                    ...                  ...            ...            ...   \n",
       "14477                    0                    1              0              0   \n",
       "14478                    0                    1              1              0   \n",
       "14479                    0                    1              0              0   \n",
       "14480                    0                    1              0              0   \n",
       "14481                    0                    1              0              1   \n",
       "\n",
       "       season_summer  season_winter  \n",
       "0                  0              1  \n",
       "1                  1              0  \n",
       "2                  1              0  \n",
       "3                  1              0  \n",
       "4                  1              0  \n",
       "...              ...            ...  \n",
       "14477              1              0  \n",
       "14478              0              0  \n",
       "14479              0              1  \n",
       "14480              0              1  \n",
       "14481              0              0  \n",
       "\n",
       "[14482 rows x 197 columns]"
      ]
     },
     "execution_count": 14,
     "metadata": {},
     "output_type": "execute_result"
    }
   ],
   "source": [
    "df_encoded"
   ]
  },
  {
   "cell_type": "code",
   "execution_count": 15,
   "metadata": {
    "scrolled": false
   },
   "outputs": [
    {
     "name": "stdout",
     "output_type": "stream",
     "text": [
      "<class 'pandas.core.frame.DataFrame'>\n",
      "RangeIndex: 14482 entries, 0 to 14481\n",
      "Columns: 197 entries, year to season_winter\n",
      "dtypes: bool(7), float64(1), int64(2), uint8(187)\n",
      "memory usage: 3.0 MB\n"
     ]
    }
   ],
   "source": [
    "df_encoded.info()"
   ]
  },
  {
   "cell_type": "code",
   "execution_count": 16,
   "metadata": {
    "scrolled": false
   },
   "outputs": [
    {
     "data": {
      "text/plain": [
       "Index(['year', 'startmonth', 'labor_wage_dispute', 'land_farm_issue',\n",
       "       'police_brutality', 'political_behavior', 'price_increases_tax_policy',\n",
       "       'removal_of_politician', 'social_restrictions', 'demands_count',\n",
       "       ...\n",
       "       'new_participants_category_2000-4999',\n",
       "       'new_participants_category_50-99',\n",
       "       'new_participants_category_5000-10000',\n",
       "       'new_participants_category_>10000', 'hemisphere_northern',\n",
       "       'hemisphere_southern', 'season_autumn', 'season_spring',\n",
       "       'season_summer', 'season_winter'],\n",
       "      dtype='object', length=197)"
      ]
     },
     "execution_count": 16,
     "metadata": {},
     "output_type": "execute_result"
    }
   ],
   "source": [
    "df_encoded.columns"
   ]
  },
  {
   "cell_type": "code",
   "execution_count": 17,
   "metadata": {},
   "outputs": [],
   "source": [
    "df_encoded.to_csv('df_encoded.csv', index=False)"
   ]
  },
  {
   "cell_type": "markdown",
   "metadata": {},
   "source": [
    "## Feature Importance <a class=\"anchor\" id=\"feat_import\"></a>"
   ]
  },
  {
   "cell_type": "code",
   "execution_count": 18,
   "metadata": {},
   "outputs": [],
   "source": [
    "plt.rcParams.update({'figure.figsize': (12.0, 8.0)})\n",
    "plt.rcParams.update({'font.size': 14})"
   ]
  },
  {
   "cell_type": "code",
   "execution_count": 19,
   "metadata": {},
   "outputs": [],
   "source": [
    "X = pd.DataFrame(df_encoded, columns=df_encoded.columns)\n",
    "y = np.ravel(df_target)\n",
    "X_train, X_test, y_train, y_test = train_test_split(X, y, test_size=0.25, random_state=42)\n"
   ]
  },
  {
   "cell_type": "code",
   "execution_count": 20,
   "metadata": {
    "scrolled": true
   },
   "outputs": [
    {
     "data": {
      "text/plain": [
       "RandomForestRegressor(n_estimators=300)"
      ]
     },
     "execution_count": 20,
     "metadata": {},
     "output_type": "execute_result"
    }
   ],
   "source": [
    "rf = RandomForestRegressor(n_estimators=300)\n",
    "rf.fit(X_train, y_train)"
   ]
  },
  {
   "cell_type": "code",
   "execution_count": 21,
   "metadata": {
    "scrolled": false
   },
   "outputs": [
    {
     "data": {
      "text/plain": [
       "array([1.97188904e-01, 1.32415894e-01, 1.63195814e-02, 8.72298389e-03,\n",
       "       1.43946720e-02, 2.65495181e-02, 1.43875567e-02, 1.58355169e-02,\n",
       "       6.53232110e-03, 2.31137471e-02, 5.97750386e-04, 2.06606236e-03,\n",
       "       2.68682026e-03, 1.34642534e-03, 6.24181032e-04, 7.94744268e-04,\n",
       "       1.67665376e-04, 1.61716551e-03, 1.62348996e-03, 8.54109991e-03,\n",
       "       9.08685306e-04, 0.00000000e+00, 5.19410817e-04, 4.94818769e-04,\n",
       "       1.60698342e-03, 4.17662347e-04, 8.43864751e-04, 1.21011706e-03,\n",
       "       2.70213377e-04, 9.20665935e-04, 3.02976655e-03, 2.42649765e-03,\n",
       "       3.11761596e-03, 2.69975482e-04, 0.00000000e+00, 3.57336487e-03,\n",
       "       1.67012159e-03, 8.08541666e-04, 3.82570996e-03, 9.43706427e-04,\n",
       "       2.68235098e-03, 1.37398900e-03, 4.77221515e-03, 4.58314569e-04,\n",
       "       0.00000000e+00, 4.05059316e-04, 0.00000000e+00, 0.00000000e+00,\n",
       "       2.27111034e-06, 4.74772744e-04, 1.57731296e-03, 2.94508099e-03,\n",
       "       1.22210954e-03, 4.37259901e-03, 1.22668622e-03, 1.82673539e-04,\n",
       "       5.15336449e-06, 0.00000000e+00, 4.68905498e-03, 0.00000000e+00,\n",
       "       5.49178816e-05, 1.78904812e-03, 1.07701404e-03, 1.17127902e-03,\n",
       "       6.78327490e-04, 9.65463616e-06, 0.00000000e+00, 1.70242016e-03,\n",
       "       1.90832047e-03, 1.13503599e-03, 8.35997924e-03, 9.66389351e-04,\n",
       "       1.06087307e-03, 2.47128336e-03, 1.74515693e-03, 6.43094875e-06,\n",
       "       4.74195996e-03, 7.94530346e-04, 4.68811702e-03, 2.46989426e-03,\n",
       "       1.29909666e-05, 1.36415244e-04, 4.51037392e-03, 8.75569321e-04,\n",
       "       8.84410458e-05, 1.31406841e-03, 1.06633661e-03, 7.54206655e-03,\n",
       "       0.00000000e+00, 8.43634214e-04, 9.30556529e-04, 0.00000000e+00,\n",
       "       0.00000000e+00, 1.53239017e-03, 2.19854335e-03, 1.77119851e-03,\n",
       "       1.54944520e-03, 0.00000000e+00, 0.00000000e+00, 5.18006441e-04,\n",
       "       2.30971113e-03, 2.53752801e-03, 1.57769024e-03, 2.57509396e-03,\n",
       "       2.26516035e-03, 1.27896684e-04, 1.45756728e-03, 2.69843848e-04,\n",
       "       5.62140576e-04, 1.72802526e-04, 6.92493180e-04, 3.67747680e-03,\n",
       "       9.59731618e-04, 3.02763173e-03, 3.82738320e-03, 1.44415453e-06,\n",
       "       2.41051777e-03, 1.84340991e-03, 3.42512532e-03, 5.18904646e-04,\n",
       "       0.00000000e+00, 7.57453016e-04, 3.20063489e-03, 4.08429104e-03,\n",
       "       4.01077122e-04, 2.96367142e-04, 1.05221447e-03, 5.56572059e-04,\n",
       "       3.36184525e-04, 3.18742077e-04, 0.00000000e+00, 4.32686802e-04,\n",
       "       1.47514887e-03, 4.14870135e-04, 7.81754029e-04, 1.31510976e-03,\n",
       "       0.00000000e+00, 0.00000000e+00, 1.19841827e-03, 1.59454777e-06,\n",
       "       2.49089665e-04, 0.00000000e+00, 9.64283314e-04, 2.66661373e-03,\n",
       "       8.24181256e-03, 3.45274655e-04, 2.33553217e-04, 5.98277937e-04,\n",
       "       3.01666262e-03, 5.28203148e-05, 3.07000720e-03, 0.00000000e+00,\n",
       "       9.77230602e-08, 1.60832388e-03, 1.72242206e-03, 1.24059870e-03,\n",
       "       1.70606500e-03, 1.75914079e-03, 3.33364365e-04, 2.54902044e-03,\n",
       "       1.55206039e-03, 2.61764772e-03, 2.36383538e-05, 7.63423519e-04,\n",
       "       4.46363537e-03, 1.24773493e-03, 4.02957933e-06, 8.53079696e-04,\n",
       "       1.98576821e-05, 2.19118166e-03, 3.10622019e-03, 4.06963686e-04,\n",
       "       5.53257677e-03, 2.69535119e-03, 2.84622159e-03, 3.91005507e-03,\n",
       "       5.49403248e-03, 2.79261029e-03, 1.26230177e-03, 3.33472651e-02,\n",
       "       4.43315590e-03, 1.28389607e-03, 3.20745931e-04, 1.16005828e-02,\n",
       "       1.54260911e-02, 3.85985136e-02, 2.36686328e-02, 2.43259385e-02,\n",
       "       1.87193924e-02, 2.13606804e-02, 1.54883637e-02, 2.36056619e-03,\n",
       "       2.27451148e-03, 1.57172657e-02, 2.04907891e-02, 2.07936724e-02,\n",
       "       1.62930818e-02])"
      ]
     },
     "execution_count": 21,
     "metadata": {},
     "output_type": "execute_result"
    }
   ],
   "source": [
    "rf.feature_importances_"
   ]
  },
  {
   "cell_type": "code",
   "execution_count": 22,
   "metadata": {},
   "outputs": [],
   "source": [
    "list_of_tuples = list(zip(df_encoded.columns, rf.feature_importances_)) "
   ]
  },
  {
   "cell_type": "code",
   "execution_count": 23,
   "metadata": {},
   "outputs": [],
   "source": [
    "df_rf = pd.DataFrame(list_of_tuples, columns = ['feature', 'importance']) "
   ]
  },
  {
   "cell_type": "code",
   "execution_count": 24,
   "metadata": {},
   "outputs": [],
   "source": [
    "sorted_feat20 = df_rf.nlargest(20,'importance')"
   ]
  },
  {
   "cell_type": "code",
   "execution_count": 25,
   "metadata": {},
   "outputs": [
    {
     "data": {
      "text/html": [
       "<div>\n",
       "<style scoped>\n",
       "    .dataframe tbody tr th:only-of-type {\n",
       "        vertical-align: middle;\n",
       "    }\n",
       "\n",
       "    .dataframe tbody tr th {\n",
       "        vertical-align: top;\n",
       "    }\n",
       "\n",
       "    .dataframe thead th {\n",
       "        text-align: right;\n",
       "    }\n",
       "</style>\n",
       "<table border=\"1\" class=\"dataframe\">\n",
       "  <thead>\n",
       "    <tr style=\"text-align: right;\">\n",
       "      <th></th>\n",
       "      <th>feature</th>\n",
       "      <th>importance</th>\n",
       "    </tr>\n",
       "  </thead>\n",
       "  <tbody>\n",
       "    <tr>\n",
       "      <th>0</th>\n",
       "      <td>year</td>\n",
       "      <td>0.197189</td>\n",
       "    </tr>\n",
       "    <tr>\n",
       "      <th>1</th>\n",
       "      <td>startmonth</td>\n",
       "      <td>0.132416</td>\n",
       "    </tr>\n",
       "    <tr>\n",
       "      <th>185</th>\n",
       "      <td>new_participants_category_100-999</td>\n",
       "      <td>0.038599</td>\n",
       "    </tr>\n",
       "    <tr>\n",
       "      <th>179</th>\n",
       "      <td>region_Europe</td>\n",
       "      <td>0.033347</td>\n",
       "    </tr>\n",
       "    <tr>\n",
       "      <th>5</th>\n",
       "      <td>political_behavior</td>\n",
       "      <td>0.026550</td>\n",
       "    </tr>\n",
       "  </tbody>\n",
       "</table>\n",
       "</div>"
      ],
      "text/plain": [
       "                               feature  importance\n",
       "0                                 year    0.197189\n",
       "1                           startmonth    0.132416\n",
       "185  new_participants_category_100-999    0.038599\n",
       "179                      region_Europe    0.033347\n",
       "5                   political_behavior    0.026550"
      ]
     },
     "execution_count": 25,
     "metadata": {},
     "output_type": "execute_result"
    }
   ],
   "source": [
    "sorted_feat20.head()"
   ]
  },
  {
   "cell_type": "code",
   "execution_count": 26,
   "metadata": {
    "scrolled": true
   },
   "outputs": [
    {
     "data": {
      "image/png": "[encoded data removed]",
      "text/plain": [
       "<Figure size 864x576 with 1 Axes>"
      ]
     },
     "metadata": {
      "needs_background": "light"
     },
     "output_type": "display_data"
    }
   ],
   "source": [
    "plt.barh('feature','importance',data=sorted_feat20)\n",
    "plt.gca().invert_yaxis()\n",
    "plt.title(\"Random Forest Feature Importance\")\n",
    "plt.xlabel(\"Importance\")\n",
    "plt.tight_layout()\n",
    "plt.savefig('15_Feature_Importance.png')"
   ]
  },
  {
   "cell_type": "code",
   "execution_count": 27,
   "metadata": {},
   "outputs": [],
   "source": [
    "sorted_feat50 = df_rf.nlargest(50,'importance')"
   ]
  },
  {
   "cell_type": "code",
   "execution_count": 28,
   "metadata": {},
   "outputs": [
    {
     "data": {
      "image/png": "[encoded data removed]",
      "text/plain": [
       "<Figure size 864x576 with 1 Axes>"
      ]
     },
     "metadata": {
      "needs_background": "light"
     },
     "output_type": "display_data"
    }
   ],
   "source": [
    "plt.barh('feature','importance',data=sorted_feat50)\n",
    "plt.gca().invert_yaxis()\n",
    "plt.title(\"Random Forest Feature Importance\")\n",
    "plt.xlabel(\"Importance\")\n",
    "plt.tight_layout()\n",
    "plt.savefig('15b_Feature_Importance.png')"
   ]
  },
  {
   "cell_type": "markdown",
   "metadata": {},
   "source": [
    "## Logistic Regression <a class=\"anchor\" id=\"Log\"></a>"
   ]
  },
  {
   "cell_type": "code",
   "execution_count": 42,
   "metadata": {},
   "outputs": [],
   "source": [
    "from sklearn.model_selection import train_test_split\n",
    "from sklearn.linear_model import LogisticRegression\n",
    "from sklearn.model_selection import GridSearchCV\n",
    "from sklearn.metrics import recall_score\n",
    "\n",
    "#Setting up x and y\n",
    "X = df_encoded\n",
    "features_list = df_encoded.columns\n",
    "y = np.ravel(df_target)"
   ]
  },
  {
   "cell_type": "code",
   "execution_count": 43,
   "metadata": {},
   "outputs": [],
   "source": [
    "# Spliting the data into training and testing sets\n",
    "X_train, X_test, y_train, y_test = train_test_split(X, y, test_size = 0.25, random_state = 42)"
   ]
  },
  {
   "cell_type": "code",
   "execution_count": 44,
   "metadata": {},
   "outputs": [],
   "source": [
    "# Setting up hyperparameter grid\n",
    "c_space = [0.0001, 0.001, .01, .1, .5, 1, 10]\n",
    "param_grid = {'C': c_space}"
   ]
  },
  {
   "cell_type": "code",
   "execution_count": 45,
   "metadata": {},
   "outputs": [],
   "source": [
    "# Creating default model : logistic regression\n",
    "logreg = LogisticRegression()"
   ]
  },
  {
   "cell_type": "code",
   "execution_count": 46,
   "metadata": {},
   "outputs": [],
   "source": [
    "#Creating grid Search with log reg and cv=5\n",
    "logreg_cv = GridSearchCV(logreg, param_grid, cv=5, scoring='roc_auc')"
   ]
  },
  {
   "cell_type": "code",
   "execution_count": 47,
   "metadata": {},
   "outputs": [
    {
     "name": "stderr",
     "output_type": "stream",
     "text": [
      "/opt/anaconda3/lib/python3.8/site-packages/sklearn/linear_model/_logistic.py:762: ConvergenceWarning: lbfgs failed to converge (status=1):\n",
      "STOP: TOTAL NO. of ITERATIONS REACHED LIMIT.\n",
      "\n",
      "Increase the number of iterations (max_iter) or scale the data as shown in:\n",
      "    https://scikit-learn.org/stable/modules/preprocessing.html\n",
      "Please also refer to the documentation for alternative solver options:\n",
      "    https://scikit-learn.org/stable/modules/linear_model.html#logistic-regression\n",
      "  n_iter_i = _check_optimize_result(\n",
      "/opt/anaconda3/lib/python3.8/site-packages/sklearn/linear_model/_logistic.py:762: ConvergenceWarning: lbfgs failed to converge (status=1):\n",
      "STOP: TOTAL NO. of ITERATIONS REACHED LIMIT.\n",
      "\n",
      "Increase the number of iterations (max_iter) or scale the data as shown in:\n",
      "    https://scikit-learn.org/stable/modules/preprocessing.html\n",
      "Please also refer to the documentation for alternative solver options:\n",
      "    https://scikit-learn.org/stable/modules/linear_model.html#logistic-regression\n",
      "  n_iter_i = _check_optimize_result(\n",
      "/opt/anaconda3/lib/python3.8/site-packages/sklearn/linear_model/_logistic.py:762: ConvergenceWarning: lbfgs failed to converge (status=1):\n",
      "STOP: TOTAL NO. of ITERATIONS REACHED LIMIT.\n",
      "\n",
      "Increase the number of iterations (max_iter) or scale the data as shown in:\n",
      "    https://scikit-learn.org/stable/modules/preprocessing.html\n",
      "Please also refer to the documentation for alternative solver options:\n",
      "    https://scikit-learn.org/stable/modules/linear_model.html#logistic-regression\n",
      "  n_iter_i = _check_optimize_result(\n",
      "/opt/anaconda3/lib/python3.8/site-packages/sklearn/linear_model/_logistic.py:762: ConvergenceWarning: lbfgs failed to converge (status=1):\n",
      "STOP: TOTAL NO. of ITERATIONS REACHED LIMIT.\n",
      "\n",
      "Increase the number of iterations (max_iter) or scale the data as shown in:\n",
      "    https://scikit-learn.org/stable/modules/preprocessing.html\n",
      "Please also refer to the documentation for alternative solver options:\n",
      "    https://scikit-learn.org/stable/modules/linear_model.html#logistic-regression\n",
      "  n_iter_i = _check_optimize_result(\n",
      "/opt/anaconda3/lib/python3.8/site-packages/sklearn/linear_model/_logistic.py:762: ConvergenceWarning: lbfgs failed to converge (status=1):\n",
      "STOP: TOTAL NO. of ITERATIONS REACHED LIMIT.\n",
      "\n",
      "Increase the number of iterations (max_iter) or scale the data as shown in:\n",
      "    https://scikit-learn.org/stable/modules/preprocessing.html\n",
      "Please also refer to the documentation for alternative solver options:\n",
      "    https://scikit-learn.org/stable/modules/linear_model.html#logistic-regression\n",
      "  n_iter_i = _check_optimize_result(\n",
      "/opt/anaconda3/lib/python3.8/site-packages/sklearn/linear_model/_logistic.py:762: ConvergenceWarning: lbfgs failed to converge (status=1):\n",
      "STOP: TOTAL NO. of ITERATIONS REACHED LIMIT.\n",
      "\n",
      "Increase the number of iterations (max_iter) or scale the data as shown in:\n",
      "    https://scikit-learn.org/stable/modules/preprocessing.html\n",
      "Please also refer to the documentation for alternative solver options:\n",
      "    https://scikit-learn.org/stable/modules/linear_model.html#logistic-regression\n",
      "  n_iter_i = _check_optimize_result(\n",
      "/opt/anaconda3/lib/python3.8/site-packages/sklearn/linear_model/_logistic.py:762: ConvergenceWarning: lbfgs failed to converge (status=1):\n",
      "STOP: TOTAL NO. of ITERATIONS REACHED LIMIT.\n",
      "\n",
      "Increase the number of iterations (max_iter) or scale the data as shown in:\n",
      "    https://scikit-learn.org/stable/modules/preprocessing.html\n",
      "Please also refer to the documentation for alternative solver options:\n",
      "    https://scikit-learn.org/stable/modules/linear_model.html#logistic-regression\n",
      "  n_iter_i = _check_optimize_result(\n",
      "/opt/anaconda3/lib/python3.8/site-packages/sklearn/linear_model/_logistic.py:762: ConvergenceWarning: lbfgs failed to converge (status=1):\n",
      "STOP: TOTAL NO. of ITERATIONS REACHED LIMIT.\n",
      "\n",
      "Increase the number of iterations (max_iter) or scale the data as shown in:\n",
      "    https://scikit-learn.org/stable/modules/preprocessing.html\n",
      "Please also refer to the documentation for alternative solver options:\n",
      "    https://scikit-learn.org/stable/modules/linear_model.html#logistic-regression\n",
      "  n_iter_i = _check_optimize_result(\n",
      "/opt/anaconda3/lib/python3.8/site-packages/sklearn/linear_model/_logistic.py:762: ConvergenceWarning: lbfgs failed to converge (status=1):\n",
      "STOP: TOTAL NO. of ITERATIONS REACHED LIMIT.\n",
      "\n",
      "Increase the number of iterations (max_iter) or scale the data as shown in:\n",
      "    https://scikit-learn.org/stable/modules/preprocessing.html\n",
      "Please also refer to the documentation for alternative solver options:\n",
      "    https://scikit-learn.org/stable/modules/linear_model.html#logistic-regression\n",
      "  n_iter_i = _check_optimize_result(\n",
      "/opt/anaconda3/lib/python3.8/site-packages/sklearn/linear_model/_logistic.py:762: ConvergenceWarning: lbfgs failed to converge (status=1):\n",
      "STOP: TOTAL NO. of ITERATIONS REACHED LIMIT.\n",
      "\n",
      "Increase the number of iterations (max_iter) or scale the data as shown in:\n",
      "    https://scikit-learn.org/stable/modules/preprocessing.html\n",
      "Please also refer to the documentation for alternative solver options:\n",
      "    https://scikit-learn.org/stable/modules/linear_model.html#logistic-regression\n",
      "  n_iter_i = _check_optimize_result(\n",
      "/opt/anaconda3/lib/python3.8/site-packages/sklearn/linear_model/_logistic.py:762: ConvergenceWarning: lbfgs failed to converge (status=1):\n",
      "STOP: TOTAL NO. of ITERATIONS REACHED LIMIT.\n",
      "\n",
      "Increase the number of iterations (max_iter) or scale the data as shown in:\n",
      "    https://scikit-learn.org/stable/modules/preprocessing.html\n",
      "Please also refer to the documentation for alternative solver options:\n",
      "    https://scikit-learn.org/stable/modules/linear_model.html#logistic-regression\n",
      "  n_iter_i = _check_optimize_result(\n",
      "/opt/anaconda3/lib/python3.8/site-packages/sklearn/linear_model/_logistic.py:762: ConvergenceWarning: lbfgs failed to converge (status=1):\n",
      "STOP: TOTAL NO. of ITERATIONS REACHED LIMIT.\n",
      "\n",
      "Increase the number of iterations (max_iter) or scale the data as shown in:\n",
      "    https://scikit-learn.org/stable/modules/preprocessing.html\n",
      "Please also refer to the documentation for alternative solver options:\n",
      "    https://scikit-learn.org/stable/modules/linear_model.html#logistic-regression\n",
      "  n_iter_i = _check_optimize_result(\n",
      "/opt/anaconda3/lib/python3.8/site-packages/sklearn/linear_model/_logistic.py:762: ConvergenceWarning: lbfgs failed to converge (status=1):\n",
      "STOP: TOTAL NO. of ITERATIONS REACHED LIMIT.\n",
      "\n",
      "Increase the number of iterations (max_iter) or scale the data as shown in:\n",
      "    https://scikit-learn.org/stable/modules/preprocessing.html\n",
      "Please also refer to the documentation for alternative solver options:\n",
      "    https://scikit-learn.org/stable/modules/linear_model.html#logistic-regression\n",
      "  n_iter_i = _check_optimize_result(\n",
      "/opt/anaconda3/lib/python3.8/site-packages/sklearn/linear_model/_logistic.py:762: ConvergenceWarning: lbfgs failed to converge (status=1):\n",
      "STOP: TOTAL NO. of ITERATIONS REACHED LIMIT.\n",
      "\n",
      "Increase the number of iterations (max_iter) or scale the data as shown in:\n",
      "    https://scikit-learn.org/stable/modules/preprocessing.html\n",
      "Please also refer to the documentation for alternative solver options:\n",
      "    https://scikit-learn.org/stable/modules/linear_model.html#logistic-regression\n",
      "  n_iter_i = _check_optimize_result(\n",
      "/opt/anaconda3/lib/python3.8/site-packages/sklearn/linear_model/_logistic.py:762: ConvergenceWarning: lbfgs failed to converge (status=1):\n",
      "STOP: TOTAL NO. of ITERATIONS REACHED LIMIT.\n",
      "\n",
      "Increase the number of iterations (max_iter) or scale the data as shown in:\n",
      "    https://scikit-learn.org/stable/modules/preprocessing.html\n",
      "Please also refer to the documentation for alternative solver options:\n",
      "    https://scikit-learn.org/stable/modules/linear_model.html#logistic-regression\n",
      "  n_iter_i = _check_optimize_result(\n",
      "/opt/anaconda3/lib/python3.8/site-packages/sklearn/linear_model/_logistic.py:762: ConvergenceWarning: lbfgs failed to converge (status=1):\n",
      "STOP: TOTAL NO. of ITERATIONS REACHED LIMIT.\n",
      "\n",
      "Increase the number of iterations (max_iter) or scale the data as shown in:\n",
      "    https://scikit-learn.org/stable/modules/preprocessing.html\n",
      "Please also refer to the documentation for alternative solver options:\n",
      "    https://scikit-learn.org/stable/modules/linear_model.html#logistic-regression\n",
      "  n_iter_i = _check_optimize_result(\n"
     ]
    },
    {
     "name": "stderr",
     "output_type": "stream",
     "text": [
      "/opt/anaconda3/lib/python3.8/site-packages/sklearn/linear_model/_logistic.py:762: ConvergenceWarning: lbfgs failed to converge (status=1):\n",
      "STOP: TOTAL NO. of ITERATIONS REACHED LIMIT.\n",
      "\n",
      "Increase the number of iterations (max_iter) or scale the data as shown in:\n",
      "    https://scikit-learn.org/stable/modules/preprocessing.html\n",
      "Please also refer to the documentation for alternative solver options:\n",
      "    https://scikit-learn.org/stable/modules/linear_model.html#logistic-regression\n",
      "  n_iter_i = _check_optimize_result(\n",
      "/opt/anaconda3/lib/python3.8/site-packages/sklearn/linear_model/_logistic.py:762: ConvergenceWarning: lbfgs failed to converge (status=1):\n",
      "STOP: TOTAL NO. of ITERATIONS REACHED LIMIT.\n",
      "\n",
      "Increase the number of iterations (max_iter) or scale the data as shown in:\n",
      "    https://scikit-learn.org/stable/modules/preprocessing.html\n",
      "Please also refer to the documentation for alternative solver options:\n",
      "    https://scikit-learn.org/stable/modules/linear_model.html#logistic-regression\n",
      "  n_iter_i = _check_optimize_result(\n",
      "/opt/anaconda3/lib/python3.8/site-packages/sklearn/linear_model/_logistic.py:762: ConvergenceWarning: lbfgs failed to converge (status=1):\n",
      "STOP: TOTAL NO. of ITERATIONS REACHED LIMIT.\n",
      "\n",
      "Increase the number of iterations (max_iter) or scale the data as shown in:\n",
      "    https://scikit-learn.org/stable/modules/preprocessing.html\n",
      "Please also refer to the documentation for alternative solver options:\n",
      "    https://scikit-learn.org/stable/modules/linear_model.html#logistic-regression\n",
      "  n_iter_i = _check_optimize_result(\n",
      "/opt/anaconda3/lib/python3.8/site-packages/sklearn/linear_model/_logistic.py:762: ConvergenceWarning: lbfgs failed to converge (status=1):\n",
      "STOP: TOTAL NO. of ITERATIONS REACHED LIMIT.\n",
      "\n",
      "Increase the number of iterations (max_iter) or scale the data as shown in:\n",
      "    https://scikit-learn.org/stable/modules/preprocessing.html\n",
      "Please also refer to the documentation for alternative solver options:\n",
      "    https://scikit-learn.org/stable/modules/linear_model.html#logistic-regression\n",
      "  n_iter_i = _check_optimize_result(\n"
     ]
    },
    {
     "name": "stdout",
     "output_type": "stream",
     "text": [
      "Best Model Parameters: {'C': 0.5}\n",
      "Best AUC-ROC score is 0.7478675828490925\n"
     ]
    },
    {
     "name": "stderr",
     "output_type": "stream",
     "text": [
      "/opt/anaconda3/lib/python3.8/site-packages/sklearn/linear_model/_logistic.py:762: ConvergenceWarning: lbfgs failed to converge (status=1):\n",
      "STOP: TOTAL NO. of ITERATIONS REACHED LIMIT.\n",
      "\n",
      "Increase the number of iterations (max_iter) or scale the data as shown in:\n",
      "    https://scikit-learn.org/stable/modules/preprocessing.html\n",
      "Please also refer to the documentation for alternative solver options:\n",
      "    https://scikit-learn.org/stable/modules/linear_model.html#logistic-regression\n",
      "  n_iter_i = _check_optimize_result(\n"
     ]
    }
   ],
   "source": [
    "# Fitting to training data\n",
    "logreg_cv.fit(X_train,y_train)\n",
    "\n",
    "# Print the tuned parameters and score\n",
    "print(\"Best Model Parameters: {}\".format(logreg_cv.best_params_)) \n",
    "print(\"Best AUC-ROC score is {}\".format(logreg_cv.best_score_))"
   ]
  },
  {
   "cell_type": "markdown",
   "metadata": {},
   "source": [
    "## Random Forest <a class=\"anchor\" id=\"random_forest\"></a>"
   ]
  },
  {
   "cell_type": "code",
   "execution_count": 48,
   "metadata": {},
   "outputs": [
    {
     "name": "stdout",
     "output_type": "stream",
     "text": [
      "Best Random Forest Parameters: {'max_depth': 7, 'n_estimators': 200}\n",
      "Best score is 0.7671881738699942\n"
     ]
    }
   ],
   "source": [
    "from sklearn.model_selection import train_test_split, GridSearchCV\n",
    "from sklearn.ensemble import RandomForestClassifier\n",
    "\n",
    "#Setting up x and y\n",
    "X = df_encoded\n",
    "features_list = df_encoded.columns\n",
    "y = np.ravel(df_target)\n",
    "\n",
    "# Split the data into training and testing sets\n",
    "X_train, X_test, y_train, y_test = train_test_split(X, y, test_size = 0.25, random_state = 42)\n",
    "\n",
    "# Setting up hyperparameter grid\n",
    "n_estimators = np.arange(50, 400, 50)#number of trees in Forest\n",
    "max_depth = np.arange(1,8)#depth of trees\n",
    "param_grid = {'n_estimators': n_estimators, 'max_depth':max_depth}\n",
    "\n",
    "# Creating default model : random forest \n",
    "rf = RandomForestClassifier()\n",
    "# Creating grid Search with log reg and cv=5\n",
    "rf_cv = GridSearchCV(rf, param_grid, cv=5, scoring='roc_auc')\n",
    "\n",
    "# Fitting the model\n",
    "rf_cv.fit(X_train, y_train)\n",
    "\n",
    "print(\"Best Random Forest Parameters: {}\".format(rf_cv.best_params_)) \n",
    "print(\"Best score is {}\".format(rf_cv.best_score_))"
   ]
  },
  {
   "cell_type": "code",
   "execution_count": 49,
   "metadata": {},
   "outputs": [
    {
     "data": {
      "image/png": "[encoded data removed]",
      "text/plain": [
       "<Figure size 864x576 with 1 Axes>"
      ]
     },
     "metadata": {
      "needs_background": "light"
     },
     "output_type": "display_data"
    }
   ],
   "source": [
    "import sklearn.metrics as metrics\n",
    "# calculate the false positive rate and true positive rate for all thresholds of the classification\n",
    "probs = rf_cv.predict_proba(X_test)\n",
    "preds = probs[:,1]\n",
    "fpr, tpr, threshold = metrics.roc_curve(y_test, preds)\n",
    "roc_auc = metrics.auc(fpr, tpr)\n",
    "\n",
    "# plotting with matplotlib\n",
    "\n",
    "plt.title('Receiver Operating Characteristic')\n",
    "plt.plot(fpr, tpr, 'b', label = 'AUC = %0.2f' % roc_auc)\n",
    "plt.legend(loc = 'lower right')\n",
    "plt.plot([0, 1], [0, 1],'r--')\n",
    "plt.xlim([0, 1])\n",
    "plt.ylim([0, 1])\n",
    "plt.ylabel('True Positive Rate')\n",
    "plt.xlabel('False Positive Rate')\n",
    "plt.show()"
   ]
  },
  {
   "cell_type": "markdown",
   "metadata": {},
   "source": [
    "## Gradient Boosting <a class=\"anchor\" id=\"gradient\"></a>"
   ]
  },
  {
   "cell_type": "code",
   "execution_count": 50,
   "metadata": {},
   "outputs": [
    {
     "name": "stdout",
     "output_type": "stream",
     "text": [
      "Best Gradient Boosting Parameters: {'n_estimators': 200, 'max_depth': 4, 'learning_rate': 0.1}\n",
      "Best score is 0.7911945848734335\n"
     ]
    }
   ],
   "source": [
    "from sklearn.ensemble import GradientBoostingClassifier\n",
    "from sklearn.model_selection import RandomizedSearchCV\n",
    "\n",
    "X = df_encoded\n",
    "y = np.ravel(df_target)\n",
    "\n",
    "# Split the data into training and testing sets\n",
    "X_train, X_test, y_train, y_test = train_test_split(X, y, test_size = 0.25, random_state = 42)\n",
    "\n",
    "n_estimators = np.arange(100,600,100)\n",
    "max_depth = [1,2,4,8]\n",
    "learning_rate = [.05,.1,.2,.5,1]\n",
    "\n",
    "param_dist = {'n_estimators': n_estimators, 'max_depth':max_depth, 'learning_rate':learning_rate}\n",
    "\n",
    "gbm = GradientBoostingClassifier()\n",
    "\n",
    "#RandomSearchCV object: \n",
    "gbm_cv = RandomizedSearchCV(gbm, param_distributions = param_dist, cv=5, scoring='roc_auc', n_iter=30)\n",
    "\n",
    "#Fitting the model\n",
    "gbm_cv.fit(X_train, y_train)\n",
    "\n",
    "print(\"Best Gradient Boosting Parameters: {}\".format(gbm_cv.best_params_)) \n",
    "print(\"Best score is {}\".format(gbm_cv.best_score_))"
   ]
  },
  {
   "cell_type": "code",
   "execution_count": 51,
   "metadata": {
    "scrolled": true
   },
   "outputs": [
    {
     "data": {
      "image/png": "[encoded data removed]",
      "text/plain": [
       "<Figure size 864x576 with 1 Axes>"
      ]
     },
     "metadata": {
      "needs_background": "light"
     },
     "output_type": "display_data"
    }
   ],
   "source": [
    "from sklearn import metrics\n",
    "\n",
    "plt.figure(0).clf()\n",
    "# calculate the false positive rate and true positive rate for all thresholds of the classification\n",
    "#Log reg\n",
    "probs = logreg_cv.predict_proba(X_test)\n",
    "preds = probs[:,1]\n",
    "fpr, tpr, threshold = metrics.roc_curve(y_test, preds)\n",
    "roc_auc = metrics.auc(fpr, tpr)\n",
    "plt.plot(fpr,tpr,label=\"Logistic Regression, auc=\"+str(roc_auc))\n",
    "\n",
    "#randomforest\n",
    "probs = rf_cv.predict_proba(X_test)\n",
    "preds = probs[:,1]\n",
    "fpr, tpr, threshold = metrics.roc_curve(y_test, preds)\n",
    "roc_auc = metrics.auc(fpr, tpr)\n",
    "plt.plot(fpr,tpr,label=\"Random Forest, auc=\"+str(roc_auc))\n",
    "\n",
    "#GradientBoost\n",
    "probs = gbm_cv.predict_proba(X_test)\n",
    "preds = probs[:,1]\n",
    "fpr, tpr, threshold = metrics.roc_curve(y_test, preds)\n",
    "roc_auc = metrics.auc(fpr, tpr)\n",
    "plt.plot(fpr,tpr,label=\"Gradient Boosting, auc=\"+str(roc_auc))\n",
    "\n",
    "\n",
    "\n",
    "# plotting with matplotlib\n",
    "plt.title('Receiver Operating Characteristic')\n",
    "plt.legend(loc = 'lower right')\n",
    "plt.plot([0, 1], [0, 1],'r--')\n",
    "plt.xlim([0, 1])\n",
    "plt.ylim([0, 1])\n",
    "plt.ylabel('True Positive Rate')\n",
    "plt.xlabel('False Positive Rate')\n",
    "plt.savefig('AUC_updated.png')\n",
    "plt.show()"
   ]
  },
  {
   "cell_type": "code",
   "execution_count": null,
   "metadata": {},
   "outputs": [],
   "source": []
  }
 ],
 "metadata": {
  "kernelspec": {
   "display_name": "Python 3",
   "language": "python",
   "name": "python3"
  },
  "language_info": {
   "codemirror_mode": {
    "name": "ipython",
    "version": 3
   },
   "file_extension": ".py",
   "mimetype": "text/x-python",
   "name": "python",
   "nbconvert_exporter": "python",
   "pygments_lexer": "ipython3",
   "version": "3.8.5"
  }
 },
 "nbformat": 4,
 "nbformat_minor": 4
}
