{
 "cells": [
  {
   "cell_type": "markdown",
   "metadata": {},
   "source": [
    "# Mass Mobilization Dataset Preview\n"
   ]
  },
  {
   "cell_type": "code",
   "execution_count": 1,
   "metadata": {},
   "outputs": [],
   "source": [
    "import pandas as pd\n",
    "from pandas_profiling import ProfileReport\n",
    "import matplotlib.pyplot as plt\n",
    "import seaborn as sns\n",
    "import os\n",
    "import numpy as np\n",
    "import datetime as dt\n",
    "%config IPCompleter.greedy=True"
   ]
  },
  {
   "cell_type": "code",
   "execution_count": 2,
   "metadata": {},
   "outputs": [
    {
     "name": "stdout",
     "output_type": "stream",
     "text": [
      "/Users/Montealvo/Springboard/Capstone_Two/Mass_Mobilization\n"
     ]
    }
   ],
   "source": [
    "print(os.getcwd())"
   ]
  },
  {
   "cell_type": "code",
   "execution_count": 3,
   "metadata": {
    "scrolled": true
   },
   "outputs": [],
   "source": [
    "mm_data = pd.read_csv('../Mass_Mobilization/raw_data/raw_downloads/mmALL_073119_csv.tab', delimiter= '\\t')"
   ]
  },
  {
   "cell_type": "code",
   "execution_count": 4,
   "metadata": {},
   "outputs": [
    {
     "name": "stdout",
     "output_type": "stream",
     "text": [
      "<class 'pandas.core.frame.DataFrame'>\n",
      "RangeIndex: 16363 entries, 0 to 16362\n",
      "Data columns (total 31 columns):\n",
      " #   Column                 Non-Null Count  Dtype  \n",
      "---  ------                 --------------  -----  \n",
      " 0   id                     16363 non-null  int64  \n",
      " 1   country                16363 non-null  object \n",
      " 2   ccode                  16363 non-null  int64  \n",
      " 3   year                   16363 non-null  int64  \n",
      " 4   region                 16363 non-null  object \n",
      " 5   protest                16363 non-null  int64  \n",
      " 6   protestnumber          16363 non-null  int64  \n",
      " 7   startday               14514 non-null  float64\n",
      " 8   startmonth             14514 non-null  float64\n",
      " 9   startyear              14514 non-null  float64\n",
      " 10  endday                 14514 non-null  float64\n",
      " 11  endmonth               14514 non-null  float64\n",
      " 12  endyear                14514 non-null  float64\n",
      " 13  protesterviolence      15033 non-null  float64\n",
      " 14  location               14493 non-null  object \n",
      " 15  participants_category  9160 non-null   object \n",
      " 16  participants           15021 non-null  object \n",
      " 17  protesteridentity      13959 non-null  object \n",
      " 18  protesterdemand1       14503 non-null  object \n",
      " 19  protesterdemand2       2676 non-null   object \n",
      " 20  protesterdemand3       316 non-null    object \n",
      " 21  protesterdemand4       896 non-null    object \n",
      " 22  stateresponse1         14483 non-null  object \n",
      " 23  stateresponse2         2716 non-null   object \n",
      " 24  stateresponse3         850 non-null    object \n",
      " 25  stateresponse4         230 non-null    object \n",
      " 26  stateresponse5         926 non-null    object \n",
      " 27  stateresponse6         16 non-null     object \n",
      " 28  stateresponse7         920 non-null    object \n",
      " 29  sources                14510 non-null  object \n",
      " 30  notes                  14468 non-null  object \n",
      "dtypes: float64(7), int64(5), object(19)\n",
      "memory usage: 3.9+ MB\n"
     ]
    }
   ],
   "source": [
    "mm_data.info()"
   ]
  },
  {
   "cell_type": "code",
   "execution_count": 5,
   "metadata": {},
   "outputs": [
    {
     "data": {
      "text/plain": [
       "(16363, 31)"
      ]
     },
     "execution_count": 5,
     "metadata": {},
     "output_type": "execute_result"
    }
   ],
   "source": [
    "mm_data.shape"
   ]
  },
  {
   "cell_type": "code",
   "execution_count": 6,
   "metadata": {},
   "outputs": [
    {
     "data": {
      "text/plain": [
       "Index(['id', 'country', 'ccode', 'year', 'region', 'protest', 'protestnumber',\n",
       "       'startday', 'startmonth', 'startyear', 'endday', 'endmonth', 'endyear',\n",
       "       'protesterviolence', 'location', 'participants_category',\n",
       "       'participants', 'protesteridentity', 'protesterdemand1',\n",
       "       'protesterdemand2', 'protesterdemand3', 'protesterdemand4',\n",
       "       'stateresponse1', 'stateresponse2', 'stateresponse3', 'stateresponse4',\n",
       "       'stateresponse5', 'stateresponse6', 'stateresponse7', 'sources',\n",
       "       'notes'],\n",
       "      dtype='object')"
      ]
     },
     "execution_count": 6,
     "metadata": {},
     "output_type": "execute_result"
    }
   ],
   "source": [
    "mm_data.columns"
   ]
  },
  {
   "cell_type": "code",
   "execution_count": 7,
   "metadata": {},
   "outputs": [
    {
     "data": {
      "text/html": [
       "<div>\n",
       "<style scoped>\n",
       "    .dataframe tbody tr th:only-of-type {\n",
       "        vertical-align: middle;\n",
       "    }\n",
       "\n",
       "    .dataframe tbody tr th {\n",
       "        vertical-align: top;\n",
       "    }\n",
       "\n",
       "    .dataframe thead th {\n",
       "        text-align: right;\n",
       "    }\n",
       "</style>\n",
       "<table border=\"1\" class=\"dataframe\">\n",
       "  <thead>\n",
       "    <tr style=\"text-align: right;\">\n",
       "      <th></th>\n",
       "      <th>id</th>\n",
       "      <th>ccode</th>\n",
       "      <th>year</th>\n",
       "      <th>protest</th>\n",
       "      <th>protestnumber</th>\n",
       "      <th>startday</th>\n",
       "      <th>startmonth</th>\n",
       "      <th>startyear</th>\n",
       "      <th>endday</th>\n",
       "      <th>endmonth</th>\n",
       "      <th>endyear</th>\n",
       "      <th>protesterviolence</th>\n",
       "    </tr>\n",
       "  </thead>\n",
       "  <tbody>\n",
       "    <tr>\n",
       "      <th>count</th>\n",
       "      <td>1.636300e+04</td>\n",
       "      <td>16363.000000</td>\n",
       "      <td>16363.000000</td>\n",
       "      <td>16363.000000</td>\n",
       "      <td>16363.000000</td>\n",
       "      <td>14514.000000</td>\n",
       "      <td>14514.000000</td>\n",
       "      <td>14514.000000</td>\n",
       "      <td>14514.000000</td>\n",
       "      <td>14514.000000</td>\n",
       "      <td>14514.000000</td>\n",
       "      <td>15033.000000</td>\n",
       "    </tr>\n",
       "    <tr>\n",
       "      <th>mean</th>\n",
       "      <td>4.366134e+09</td>\n",
       "      <td>436.412883</td>\n",
       "      <td>2005.544093</td>\n",
       "      <td>0.887001</td>\n",
       "      <td>7.169651</td>\n",
       "      <td>15.450324</td>\n",
       "      <td>6.162464</td>\n",
       "      <td>2005.684649</td>\n",
       "      <td>15.575720</td>\n",
       "      <td>6.179964</td>\n",
       "      <td>2005.687405</td>\n",
       "      <td>0.253842</td>\n",
       "    </tr>\n",
       "    <tr>\n",
       "      <th>std</th>\n",
       "      <td>2.324265e+09</td>\n",
       "      <td>232.426438</td>\n",
       "      <td>8.718902</td>\n",
       "      <td>0.316601</td>\n",
       "      <td>11.635211</td>\n",
       "      <td>8.830148</td>\n",
       "      <td>3.454530</td>\n",
       "      <td>8.696184</td>\n",
       "      <td>8.815945</td>\n",
       "      <td>3.454780</td>\n",
       "      <td>8.697528</td>\n",
       "      <td>0.435222</td>\n",
       "    </tr>\n",
       "    <tr>\n",
       "      <th>min</th>\n",
       "      <td>2.019900e+08</td>\n",
       "      <td>20.000000</td>\n",
       "      <td>1990.000000</td>\n",
       "      <td>0.000000</td>\n",
       "      <td>0.000000</td>\n",
       "      <td>1.000000</td>\n",
       "      <td>1.000000</td>\n",
       "      <td>1990.000000</td>\n",
       "      <td>1.000000</td>\n",
       "      <td>1.000000</td>\n",
       "      <td>1990.000000</td>\n",
       "      <td>0.000000</td>\n",
       "    </tr>\n",
       "    <tr>\n",
       "      <th>25%</th>\n",
       "      <td>2.202004e+09</td>\n",
       "      <td>220.000000</td>\n",
       "      <td>1998.000000</td>\n",
       "      <td>1.000000</td>\n",
       "      <td>1.000000</td>\n",
       "      <td>8.000000</td>\n",
       "      <td>3.000000</td>\n",
       "      <td>1998.000000</td>\n",
       "      <td>8.000000</td>\n",
       "      <td>3.000000</td>\n",
       "      <td>1998.000000</td>\n",
       "      <td>0.000000</td>\n",
       "    </tr>\n",
       "    <tr>\n",
       "      <th>50%</th>\n",
       "      <td>4.331993e+09</td>\n",
       "      <td>433.000000</td>\n",
       "      <td>2006.000000</td>\n",
       "      <td>1.000000</td>\n",
       "      <td>3.000000</td>\n",
       "      <td>15.000000</td>\n",
       "      <td>6.000000</td>\n",
       "      <td>2007.000000</td>\n",
       "      <td>16.000000</td>\n",
       "      <td>6.000000</td>\n",
       "      <td>2007.000000</td>\n",
       "      <td>0.000000</td>\n",
       "    </tr>\n",
       "    <tr>\n",
       "      <th>75%</th>\n",
       "      <td>6.452019e+09</td>\n",
       "      <td>645.000000</td>\n",
       "      <td>2014.000000</td>\n",
       "      <td>1.000000</td>\n",
       "      <td>8.000000</td>\n",
       "      <td>23.000000</td>\n",
       "      <td>9.000000</td>\n",
       "      <td>2014.000000</td>\n",
       "      <td>23.000000</td>\n",
       "      <td>9.000000</td>\n",
       "      <td>2014.000000</td>\n",
       "      <td>1.000000</td>\n",
       "    </tr>\n",
       "    <tr>\n",
       "      <th>max</th>\n",
       "      <td>9.102019e+09</td>\n",
       "      <td>910.000000</td>\n",
       "      <td>2019.000000</td>\n",
       "      <td>1.000000</td>\n",
       "      <td>143.000000</td>\n",
       "      <td>31.000000</td>\n",
       "      <td>12.000000</td>\n",
       "      <td>2019.000000</td>\n",
       "      <td>31.000000</td>\n",
       "      <td>12.000000</td>\n",
       "      <td>2019.000000</td>\n",
       "      <td>1.000000</td>\n",
       "    </tr>\n",
       "  </tbody>\n",
       "</table>\n",
       "</div>"
      ],
      "text/plain": [
       "                 id         ccode          year       protest  protestnumber  \\\n",
       "count  1.636300e+04  16363.000000  16363.000000  16363.000000   16363.000000   \n",
       "mean   4.366134e+09    436.412883   2005.544093      0.887001       7.169651   \n",
       "std    2.324265e+09    232.426438      8.718902      0.316601      11.635211   \n",
       "min    2.019900e+08     20.000000   1990.000000      0.000000       0.000000   \n",
       "25%    2.202004e+09    220.000000   1998.000000      1.000000       1.000000   \n",
       "50%    4.331993e+09    433.000000   2006.000000      1.000000       3.000000   \n",
       "75%    6.452019e+09    645.000000   2014.000000      1.000000       8.000000   \n",
       "max    9.102019e+09    910.000000   2019.000000      1.000000     143.000000   \n",
       "\n",
       "           startday    startmonth     startyear        endday      endmonth  \\\n",
       "count  14514.000000  14514.000000  14514.000000  14514.000000  14514.000000   \n",
       "mean      15.450324      6.162464   2005.684649     15.575720      6.179964   \n",
       "std        8.830148      3.454530      8.696184      8.815945      3.454780   \n",
       "min        1.000000      1.000000   1990.000000      1.000000      1.000000   \n",
       "25%        8.000000      3.000000   1998.000000      8.000000      3.000000   \n",
       "50%       15.000000      6.000000   2007.000000     16.000000      6.000000   \n",
       "75%       23.000000      9.000000   2014.000000     23.000000      9.000000   \n",
       "max       31.000000     12.000000   2019.000000     31.000000     12.000000   \n",
       "\n",
       "            endyear  protesterviolence  \n",
       "count  14514.000000       15033.000000  \n",
       "mean    2005.687405           0.253842  \n",
       "std        8.697528           0.435222  \n",
       "min     1990.000000           0.000000  \n",
       "25%     1998.000000           0.000000  \n",
       "50%     2007.000000           0.000000  \n",
       "75%     2014.000000           1.000000  \n",
       "max     2019.000000           1.000000  "
      ]
     },
     "execution_count": 7,
     "metadata": {},
     "output_type": "execute_result"
    }
   ],
   "source": [
    "mm_data.describe()"
   ]
  },
  {
   "cell_type": "code",
   "execution_count": 8,
   "metadata": {
    "scrolled": false
   },
   "outputs": [],
   "source": [
    "#prof = ProfileReport(mm_data)\n",
    "#prof.to_widgets()\n",
    "#prof.to_file(output_file='output.html')"
   ]
  },
  {
   "cell_type": "markdown",
   "metadata": {},
   "source": [
    "## Looking at participant and participant_category data"
   ]
  },
  {
   "cell_type": "code",
   "execution_count": 9,
   "metadata": {
    "scrolled": true
   },
   "outputs": [],
   "source": [
    "participants_int = pd.read_csv('../Mass_Mobilization/raw_data/mm_participants_id_updated.csv', index_col='id')"
   ]
  },
  {
   "cell_type": "code",
   "execution_count": 10,
   "metadata": {},
   "outputs": [],
   "source": [
    "mm_data = pd.merge(mm_data, participants_int, on=['id'])"
   ]
  },
  {
   "cell_type": "code",
   "execution_count": 11,
   "metadata": {},
   "outputs": [
    {
     "data": {
      "text/html": [
       "<div>\n",
       "<style scoped>\n",
       "    .dataframe tbody tr th:only-of-type {\n",
       "        vertical-align: middle;\n",
       "    }\n",
       "\n",
       "    .dataframe tbody tr th {\n",
       "        vertical-align: top;\n",
       "    }\n",
       "\n",
       "    .dataframe thead th {\n",
       "        text-align: right;\n",
       "    }\n",
       "</style>\n",
       "<table border=\"1\" class=\"dataframe\">\n",
       "  <thead>\n",
       "    <tr style=\"text-align: right;\">\n",
       "      <th></th>\n",
       "      <th>new_participants_category</th>\n",
       "      <th>participants_int</th>\n",
       "    </tr>\n",
       "  </thead>\n",
       "  <tbody>\n",
       "    <tr>\n",
       "      <th>0</th>\n",
       "      <td>1000-1999</td>\n",
       "      <td>1500.0</td>\n",
       "    </tr>\n",
       "    <tr>\n",
       "      <th>1</th>\n",
       "      <td>1000-1999</td>\n",
       "      <td>1000.0</td>\n",
       "    </tr>\n",
       "    <tr>\n",
       "      <th>2</th>\n",
       "      <td>100-999</td>\n",
       "      <td>500.0</td>\n",
       "    </tr>\n",
       "    <tr>\n",
       "      <th>3</th>\n",
       "      <td>100-999</td>\n",
       "      <td>550.0</td>\n",
       "    </tr>\n",
       "    <tr>\n",
       "      <th>4</th>\n",
       "      <td>100-999</td>\n",
       "      <td>950.0</td>\n",
       "    </tr>\n",
       "    <tr>\n",
       "      <th>...</th>\n",
       "      <td>...</td>\n",
       "      <td>...</td>\n",
       "    </tr>\n",
       "    <tr>\n",
       "      <th>16358</th>\n",
       "      <td>50-99</td>\n",
       "      <td>75.0</td>\n",
       "    </tr>\n",
       "    <tr>\n",
       "      <th>16359</th>\n",
       "      <td>50-99</td>\n",
       "      <td>75.0</td>\n",
       "    </tr>\n",
       "    <tr>\n",
       "      <th>16360</th>\n",
       "      <td>100-999</td>\n",
       "      <td>100.0</td>\n",
       "    </tr>\n",
       "    <tr>\n",
       "      <th>16361</th>\n",
       "      <td>NaN</td>\n",
       "      <td>NaN</td>\n",
       "    </tr>\n",
       "    <tr>\n",
       "      <th>16362</th>\n",
       "      <td>NaN</td>\n",
       "      <td>NaN</td>\n",
       "    </tr>\n",
       "  </tbody>\n",
       "</table>\n",
       "<p>16363 rows × 2 columns</p>\n",
       "</div>"
      ],
      "text/plain": [
       "      new_participants_category  participants_int\n",
       "0                     1000-1999            1500.0\n",
       "1                     1000-1999            1000.0\n",
       "2                       100-999             500.0\n",
       "3                       100-999             550.0\n",
       "4                       100-999             950.0\n",
       "...                         ...               ...\n",
       "16358                     50-99              75.0\n",
       "16359                     50-99              75.0\n",
       "16360                   100-999             100.0\n",
       "16361                       NaN               NaN\n",
       "16362                       NaN               NaN\n",
       "\n",
       "[16363 rows x 2 columns]"
      ]
     },
     "execution_count": 11,
     "metadata": {},
     "output_type": "execute_result"
    }
   ],
   "source": [
    "pc_ranges= [0,50,99,999,1999,4999,10000,np.inf]\n",
    "pc_names=['0-50','50-99','100-999','1000-1999','2000-4999','5000-10000','>10000']\n",
    "mm_data['new_participants_category']= pd.cut(mm_data['participants_int'], bins=pc_ranges, labels = pc_names)\n",
    "mm_data[['new_participants_category', 'participants_int']]"
   ]
  },
  {
   "cell_type": "markdown",
   "metadata": {},
   "source": [
    "## Looking at protester demands"
   ]
  },
  {
   "cell_type": "code",
   "execution_count": 12,
   "metadata": {},
   "outputs": [],
   "source": [
    "demands = mm_data[['protesterdemand1','protesterdemand2', 'protesterdemand3', 'protesterdemand4']]"
   ]
  },
  {
   "cell_type": "code",
   "execution_count": 13,
   "metadata": {
    "scrolled": false
   },
   "outputs": [
    {
     "data": {
      "text/html": [
       "<div>\n",
       "<style scoped>\n",
       "    .dataframe tbody tr th:only-of-type {\n",
       "        vertical-align: middle;\n",
       "    }\n",
       "\n",
       "    .dataframe tbody tr th {\n",
       "        vertical-align: top;\n",
       "    }\n",
       "\n",
       "    .dataframe thead th {\n",
       "        text-align: right;\n",
       "    }\n",
       "</style>\n",
       "<table border=\"1\" class=\"dataframe\">\n",
       "  <thead>\n",
       "    <tr style=\"text-align: right;\">\n",
       "      <th></th>\n",
       "      <th>protesterdemand1</th>\n",
       "      <th>protesterdemand2</th>\n",
       "      <th>protesterdemand3</th>\n",
       "      <th>protesterdemand4</th>\n",
       "    </tr>\n",
       "  </thead>\n",
       "  <tbody>\n",
       "    <tr>\n",
       "      <th>0</th>\n",
       "      <td>political behavior, process</td>\n",
       "      <td>labor wage dispute</td>\n",
       "      <td>NaN</td>\n",
       "      <td>NaN</td>\n",
       "    </tr>\n",
       "    <tr>\n",
       "      <th>1</th>\n",
       "      <td>political behavior, process</td>\n",
       "      <td>NaN</td>\n",
       "      <td>NaN</td>\n",
       "      <td>NaN</td>\n",
       "    </tr>\n",
       "    <tr>\n",
       "      <th>2</th>\n",
       "      <td>political behavior, process</td>\n",
       "      <td>NaN</td>\n",
       "      <td>NaN</td>\n",
       "      <td>NaN</td>\n",
       "    </tr>\n",
       "    <tr>\n",
       "      <th>3</th>\n",
       "      <td>land farm issue</td>\n",
       "      <td>NaN</td>\n",
       "      <td>NaN</td>\n",
       "      <td>NaN</td>\n",
       "    </tr>\n",
       "    <tr>\n",
       "      <th>4</th>\n",
       "      <td>political behavior, process</td>\n",
       "      <td>NaN</td>\n",
       "      <td>NaN</td>\n",
       "      <td>NaN</td>\n",
       "    </tr>\n",
       "  </tbody>\n",
       "</table>\n",
       "</div>"
      ],
      "text/plain": [
       "              protesterdemand1    protesterdemand2 protesterdemand3  \\\n",
       "0  political behavior, process  labor wage dispute              NaN   \n",
       "1  political behavior, process                 NaN              NaN   \n",
       "2  political behavior, process                 NaN              NaN   \n",
       "3              land farm issue                 NaN              NaN   \n",
       "4  political behavior, process                 NaN              NaN   \n",
       "\n",
       "  protesterdemand4  \n",
       "0              NaN  \n",
       "1              NaN  \n",
       "2              NaN  \n",
       "3              NaN  \n",
       "4              NaN  "
      ]
     },
     "execution_count": 13,
     "metadata": {},
     "output_type": "execute_result"
    }
   ],
   "source": [
    "demands.head()"
   ]
  },
  {
   "cell_type": "code",
   "execution_count": 14,
   "metadata": {},
   "outputs": [
    {
     "name": "stdout",
     "output_type": "stream",
     "text": [
      "<class 'pandas.core.frame.DataFrame'>\n",
      "Int64Index: 16363 entries, 0 to 16362\n",
      "Data columns (total 4 columns):\n",
      " #   Column            Non-Null Count  Dtype \n",
      "---  ------            --------------  ----- \n",
      " 0   protesterdemand1  14503 non-null  object\n",
      " 1   protesterdemand2  2676 non-null   object\n",
      " 2   protesterdemand3  316 non-null    object\n",
      " 3   protesterdemand4  896 non-null    object\n",
      "dtypes: object(4)\n",
      "memory usage: 639.2+ KB\n"
     ]
    }
   ],
   "source": [
    "demands.info()"
   ]
  },
  {
   "cell_type": "markdown",
   "metadata": {},
   "source": [
    "## Combining protester demands into 1 column"
   ]
  },
  {
   "cell_type": "code",
   "execution_count": 15,
   "metadata": {
    "scrolled": true
   },
   "outputs": [],
   "source": [
    "#Note: Protester demands are uniform across columns\n",
    "mm_data['demand_combo'] = demands.stack().groupby(level=0).apply('; '.join)"
   ]
  },
  {
   "cell_type": "code",
   "execution_count": 16,
   "metadata": {},
   "outputs": [
    {
     "data": {
      "text/html": [
       "<div>\n",
       "<style scoped>\n",
       "    .dataframe tbody tr th:only-of-type {\n",
       "        vertical-align: middle;\n",
       "    }\n",
       "\n",
       "    .dataframe tbody tr th {\n",
       "        vertical-align: top;\n",
       "    }\n",
       "\n",
       "    .dataframe thead th {\n",
       "        text-align: right;\n",
       "    }\n",
       "</style>\n",
       "<table border=\"1\" class=\"dataframe\">\n",
       "  <thead>\n",
       "    <tr style=\"text-align: right;\">\n",
       "      <th></th>\n",
       "      <th>id</th>\n",
       "      <th>country</th>\n",
       "      <th>ccode</th>\n",
       "      <th>year</th>\n",
       "      <th>region</th>\n",
       "      <th>protest</th>\n",
       "      <th>protestnumber</th>\n",
       "      <th>startday</th>\n",
       "      <th>startmonth</th>\n",
       "      <th>startyear</th>\n",
       "      <th>...</th>\n",
       "      <th>stateresponse3</th>\n",
       "      <th>stateresponse4</th>\n",
       "      <th>stateresponse5</th>\n",
       "      <th>stateresponse6</th>\n",
       "      <th>stateresponse7</th>\n",
       "      <th>sources</th>\n",
       "      <th>notes</th>\n",
       "      <th>participants_int</th>\n",
       "      <th>new_participants_category</th>\n",
       "      <th>demand_combo</th>\n",
       "    </tr>\n",
       "  </thead>\n",
       "  <tbody>\n",
       "    <tr>\n",
       "      <th>0</th>\n",
       "      <td>201990001</td>\n",
       "      <td>Canada</td>\n",
       "      <td>20</td>\n",
       "      <td>1990</td>\n",
       "      <td>North America</td>\n",
       "      <td>1</td>\n",
       "      <td>1</td>\n",
       "      <td>15.0</td>\n",
       "      <td>1.0</td>\n",
       "      <td>1990.0</td>\n",
       "      <td>...</td>\n",
       "      <td>NaN</td>\n",
       "      <td>NaN</td>\n",
       "      <td>NaN</td>\n",
       "      <td>NaN</td>\n",
       "      <td>NaN</td>\n",
       "      <td>1. Great Canadian train journeys into history;...</td>\n",
       "      <td>Canada s railway passenger system was finally...</td>\n",
       "      <td>1500.0</td>\n",
       "      <td>1000-1999</td>\n",
       "      <td>political behavior, process; labor wage dispute</td>\n",
       "    </tr>\n",
       "    <tr>\n",
       "      <th>1</th>\n",
       "      <td>201990002</td>\n",
       "      <td>Canada</td>\n",
       "      <td>20</td>\n",
       "      <td>1990</td>\n",
       "      <td>North America</td>\n",
       "      <td>1</td>\n",
       "      <td>2</td>\n",
       "      <td>25.0</td>\n",
       "      <td>6.0</td>\n",
       "      <td>1990.0</td>\n",
       "      <td>...</td>\n",
       "      <td>NaN</td>\n",
       "      <td>NaN</td>\n",
       "      <td>NaN</td>\n",
       "      <td>NaN</td>\n",
       "      <td>NaN</td>\n",
       "      <td>1. Autonomy s Cry Revived in Quebec The New Yo...</td>\n",
       "      <td>protestors were only identified as  young peop...</td>\n",
       "      <td>1000.0</td>\n",
       "      <td>1000-1999</td>\n",
       "      <td>political behavior, process</td>\n",
       "    </tr>\n",
       "    <tr>\n",
       "      <th>2</th>\n",
       "      <td>201990003</td>\n",
       "      <td>Canada</td>\n",
       "      <td>20</td>\n",
       "      <td>1990</td>\n",
       "      <td>North America</td>\n",
       "      <td>1</td>\n",
       "      <td>3</td>\n",
       "      <td>1.0</td>\n",
       "      <td>7.0</td>\n",
       "      <td>1990.0</td>\n",
       "      <td>...</td>\n",
       "      <td>NaN</td>\n",
       "      <td>NaN</td>\n",
       "      <td>NaN</td>\n",
       "      <td>NaN</td>\n",
       "      <td>NaN</td>\n",
       "      <td>1. Quebec protest after Queen calls for unity ...</td>\n",
       "      <td>THE Queen, after calling on Canadians to rema...</td>\n",
       "      <td>500.0</td>\n",
       "      <td>100-999</td>\n",
       "      <td>political behavior, process</td>\n",
       "    </tr>\n",
       "    <tr>\n",
       "      <th>3</th>\n",
       "      <td>201990004</td>\n",
       "      <td>Canada</td>\n",
       "      <td>20</td>\n",
       "      <td>1990</td>\n",
       "      <td>North America</td>\n",
       "      <td>1</td>\n",
       "      <td>4</td>\n",
       "      <td>12.0</td>\n",
       "      <td>7.0</td>\n",
       "      <td>1990.0</td>\n",
       "      <td>...</td>\n",
       "      <td>NaN</td>\n",
       "      <td>NaN</td>\n",
       "      <td>NaN</td>\n",
       "      <td>NaN</td>\n",
       "      <td>NaN</td>\n",
       "      <td>1. Indians Gather as Siege Intensifies; Armed ...</td>\n",
       "      <td>Canada s federal government has agreed to acq...</td>\n",
       "      <td>550.0</td>\n",
       "      <td>100-999</td>\n",
       "      <td>land farm issue</td>\n",
       "    </tr>\n",
       "    <tr>\n",
       "      <th>4</th>\n",
       "      <td>201990005</td>\n",
       "      <td>Canada</td>\n",
       "      <td>20</td>\n",
       "      <td>1990</td>\n",
       "      <td>North America</td>\n",
       "      <td>1</td>\n",
       "      <td>5</td>\n",
       "      <td>14.0</td>\n",
       "      <td>8.0</td>\n",
       "      <td>1990.0</td>\n",
       "      <td>...</td>\n",
       "      <td>accomodation</td>\n",
       "      <td>NaN</td>\n",
       "      <td>NaN</td>\n",
       "      <td>NaN</td>\n",
       "      <td>NaN</td>\n",
       "      <td>1. Dozens hurt in Mohawk blockade protest The ...</td>\n",
       "      <td>Protests were directed against the state due t...</td>\n",
       "      <td>950.0</td>\n",
       "      <td>100-999</td>\n",
       "      <td>political behavior, process</td>\n",
       "    </tr>\n",
       "  </tbody>\n",
       "</table>\n",
       "<p>5 rows × 34 columns</p>\n",
       "</div>"
      ],
      "text/plain": [
       "          id country  ccode  year         region  protest  protestnumber  \\\n",
       "0  201990001  Canada     20  1990  North America        1              1   \n",
       "1  201990002  Canada     20  1990  North America        1              2   \n",
       "2  201990003  Canada     20  1990  North America        1              3   \n",
       "3  201990004  Canada     20  1990  North America        1              4   \n",
       "4  201990005  Canada     20  1990  North America        1              5   \n",
       "\n",
       "   startday  startmonth  startyear  ...  stateresponse3  stateresponse4  \\\n",
       "0      15.0         1.0     1990.0  ...             NaN             NaN   \n",
       "1      25.0         6.0     1990.0  ...             NaN             NaN   \n",
       "2       1.0         7.0     1990.0  ...             NaN             NaN   \n",
       "3      12.0         7.0     1990.0  ...             NaN             NaN   \n",
       "4      14.0         8.0     1990.0  ...    accomodation             NaN   \n",
       "\n",
       "   stateresponse5  stateresponse6 stateresponse7  \\\n",
       "0             NaN             NaN            NaN   \n",
       "1             NaN             NaN            NaN   \n",
       "2             NaN             NaN            NaN   \n",
       "3             NaN             NaN            NaN   \n",
       "4             NaN             NaN            NaN   \n",
       "\n",
       "                                             sources  \\\n",
       "0  1. Great Canadian train journeys into history;...   \n",
       "1  1. Autonomy s Cry Revived in Quebec The New Yo...   \n",
       "2  1. Quebec protest after Queen calls for unity ...   \n",
       "3  1. Indians Gather as Siege Intensifies; Armed ...   \n",
       "4  1. Dozens hurt in Mohawk blockade protest The ...   \n",
       "\n",
       "                                               notes participants_int  \\\n",
       "0   Canada s railway passenger system was finally...           1500.0   \n",
       "1  protestors were only identified as  young peop...           1000.0   \n",
       "2   THE Queen, after calling on Canadians to rema...            500.0   \n",
       "3   Canada s federal government has agreed to acq...            550.0   \n",
       "4  Protests were directed against the state due t...            950.0   \n",
       "\n",
       "  new_participants_category                                     demand_combo  \n",
       "0                 1000-1999  political behavior, process; labor wage dispute  \n",
       "1                 1000-1999                      political behavior, process  \n",
       "2                   100-999                      political behavior, process  \n",
       "3                   100-999                                  land farm issue  \n",
       "4                   100-999                      political behavior, process  \n",
       "\n",
       "[5 rows x 34 columns]"
      ]
     },
     "execution_count": 16,
     "metadata": {},
     "output_type": "execute_result"
    }
   ],
   "source": [
    "mm_data.head()"
   ]
  },
  {
   "cell_type": "code",
   "execution_count": 17,
   "metadata": {
    "scrolled": false
   },
   "outputs": [
    {
     "data": {
      "text/plain": [
       "pandas.core.series.Series"
      ]
     },
     "execution_count": 17,
     "metadata": {},
     "output_type": "execute_result"
    }
   ],
   "source": [
    "type(mm_data['demand_combo'])"
   ]
  },
  {
   "cell_type": "code",
   "execution_count": 18,
   "metadata": {},
   "outputs": [
    {
     "data": {
      "text/plain": [
       "str"
      ]
     },
     "execution_count": 18,
     "metadata": {},
     "output_type": "execute_result"
    }
   ],
   "source": [
    "type(mm_data.loc[0,'demand_combo'])"
   ]
  },
  {
   "cell_type": "markdown",
   "metadata": {},
   "source": [
    "## Making new columns for each demand 0/1"
   ]
  },
  {
   "cell_type": "code",
   "execution_count": 19,
   "metadata": {
    "scrolled": true
   },
   "outputs": [],
   "source": [
    "mm_data['labor_wage_dispute'] = mm_data.demand_combo.str.contains('labor wage dispute').astype('category')\n"
   ]
  },
  {
   "cell_type": "code",
   "execution_count": 20,
   "metadata": {},
   "outputs": [],
   "source": [
    "mm_data['land_farm_issue'] = mm_data.demand_combo.str.contains('land farm issue').astype('category')"
   ]
  },
  {
   "cell_type": "code",
   "execution_count": 21,
   "metadata": {},
   "outputs": [],
   "source": [
    "mm_data['police_brutality'] = mm_data.demand_combo.str.contains('police brutality').astype('category')"
   ]
  },
  {
   "cell_type": "code",
   "execution_count": 22,
   "metadata": {},
   "outputs": [],
   "source": [
    "mm_data['political_behavior'] = mm_data.demand_combo.str.contains('political behavior, process').astype('category')"
   ]
  },
  {
   "cell_type": "code",
   "execution_count": 23,
   "metadata": {},
   "outputs": [],
   "source": [
    "mm_data['price_increases_tax_policy'] = mm_data.demand_combo.str.contains('price increases, tax policy').astype('category')"
   ]
  },
  {
   "cell_type": "code",
   "execution_count": 24,
   "metadata": {},
   "outputs": [],
   "source": [
    "mm_data['removal_of_politician'] = mm_data.demand_combo.str.contains('removal of politician').astype('category')"
   ]
  },
  {
   "cell_type": "code",
   "execution_count": 25,
   "metadata": {},
   "outputs": [],
   "source": [
    "mm_data['social_restrictions'] = mm_data.demand_combo.str.contains('social restrictions').astype('category')"
   ]
  },
  {
   "cell_type": "code",
   "execution_count": 26,
   "metadata": {
    "scrolled": false
   },
   "outputs": [
    {
     "data": {
      "text/html": [
       "<div>\n",
       "<style scoped>\n",
       "    .dataframe tbody tr th:only-of-type {\n",
       "        vertical-align: middle;\n",
       "    }\n",
       "\n",
       "    .dataframe tbody tr th {\n",
       "        vertical-align: top;\n",
       "    }\n",
       "\n",
       "    .dataframe thead th {\n",
       "        text-align: right;\n",
       "    }\n",
       "</style>\n",
       "<table border=\"1\" class=\"dataframe\">\n",
       "  <thead>\n",
       "    <tr style=\"text-align: right;\">\n",
       "      <th></th>\n",
       "      <th>id</th>\n",
       "      <th>country</th>\n",
       "      <th>ccode</th>\n",
       "      <th>year</th>\n",
       "      <th>region</th>\n",
       "      <th>protest</th>\n",
       "      <th>protestnumber</th>\n",
       "      <th>startday</th>\n",
       "      <th>startmonth</th>\n",
       "      <th>startyear</th>\n",
       "      <th>...</th>\n",
       "      <th>participants_int</th>\n",
       "      <th>new_participants_category</th>\n",
       "      <th>demand_combo</th>\n",
       "      <th>labor_wage_dispute</th>\n",
       "      <th>land_farm_issue</th>\n",
       "      <th>police_brutality</th>\n",
       "      <th>political_behavior</th>\n",
       "      <th>price_increases_tax_policy</th>\n",
       "      <th>removal_of_politician</th>\n",
       "      <th>social_restrictions</th>\n",
       "    </tr>\n",
       "  </thead>\n",
       "  <tbody>\n",
       "    <tr>\n",
       "      <th>0</th>\n",
       "      <td>201990001</td>\n",
       "      <td>Canada</td>\n",
       "      <td>20</td>\n",
       "      <td>1990</td>\n",
       "      <td>North America</td>\n",
       "      <td>1</td>\n",
       "      <td>1</td>\n",
       "      <td>15.0</td>\n",
       "      <td>1.0</td>\n",
       "      <td>1990.0</td>\n",
       "      <td>...</td>\n",
       "      <td>1500.0</td>\n",
       "      <td>1000-1999</td>\n",
       "      <td>political behavior, process; labor wage dispute</td>\n",
       "      <td>True</td>\n",
       "      <td>False</td>\n",
       "      <td>False</td>\n",
       "      <td>True</td>\n",
       "      <td>False</td>\n",
       "      <td>False</td>\n",
       "      <td>False</td>\n",
       "    </tr>\n",
       "    <tr>\n",
       "      <th>1</th>\n",
       "      <td>201990002</td>\n",
       "      <td>Canada</td>\n",
       "      <td>20</td>\n",
       "      <td>1990</td>\n",
       "      <td>North America</td>\n",
       "      <td>1</td>\n",
       "      <td>2</td>\n",
       "      <td>25.0</td>\n",
       "      <td>6.0</td>\n",
       "      <td>1990.0</td>\n",
       "      <td>...</td>\n",
       "      <td>1000.0</td>\n",
       "      <td>1000-1999</td>\n",
       "      <td>political behavior, process</td>\n",
       "      <td>False</td>\n",
       "      <td>False</td>\n",
       "      <td>False</td>\n",
       "      <td>True</td>\n",
       "      <td>False</td>\n",
       "      <td>False</td>\n",
       "      <td>False</td>\n",
       "    </tr>\n",
       "    <tr>\n",
       "      <th>2</th>\n",
       "      <td>201990003</td>\n",
       "      <td>Canada</td>\n",
       "      <td>20</td>\n",
       "      <td>1990</td>\n",
       "      <td>North America</td>\n",
       "      <td>1</td>\n",
       "      <td>3</td>\n",
       "      <td>1.0</td>\n",
       "      <td>7.0</td>\n",
       "      <td>1990.0</td>\n",
       "      <td>...</td>\n",
       "      <td>500.0</td>\n",
       "      <td>100-999</td>\n",
       "      <td>political behavior, process</td>\n",
       "      <td>False</td>\n",
       "      <td>False</td>\n",
       "      <td>False</td>\n",
       "      <td>True</td>\n",
       "      <td>False</td>\n",
       "      <td>False</td>\n",
       "      <td>False</td>\n",
       "    </tr>\n",
       "    <tr>\n",
       "      <th>3</th>\n",
       "      <td>201990004</td>\n",
       "      <td>Canada</td>\n",
       "      <td>20</td>\n",
       "      <td>1990</td>\n",
       "      <td>North America</td>\n",
       "      <td>1</td>\n",
       "      <td>4</td>\n",
       "      <td>12.0</td>\n",
       "      <td>7.0</td>\n",
       "      <td>1990.0</td>\n",
       "      <td>...</td>\n",
       "      <td>550.0</td>\n",
       "      <td>100-999</td>\n",
       "      <td>land farm issue</td>\n",
       "      <td>False</td>\n",
       "      <td>True</td>\n",
       "      <td>False</td>\n",
       "      <td>False</td>\n",
       "      <td>False</td>\n",
       "      <td>False</td>\n",
       "      <td>False</td>\n",
       "    </tr>\n",
       "    <tr>\n",
       "      <th>4</th>\n",
       "      <td>201990005</td>\n",
       "      <td>Canada</td>\n",
       "      <td>20</td>\n",
       "      <td>1990</td>\n",
       "      <td>North America</td>\n",
       "      <td>1</td>\n",
       "      <td>5</td>\n",
       "      <td>14.0</td>\n",
       "      <td>8.0</td>\n",
       "      <td>1990.0</td>\n",
       "      <td>...</td>\n",
       "      <td>950.0</td>\n",
       "      <td>100-999</td>\n",
       "      <td>political behavior, process</td>\n",
       "      <td>False</td>\n",
       "      <td>False</td>\n",
       "      <td>False</td>\n",
       "      <td>True</td>\n",
       "      <td>False</td>\n",
       "      <td>False</td>\n",
       "      <td>False</td>\n",
       "    </tr>\n",
       "  </tbody>\n",
       "</table>\n",
       "<p>5 rows × 41 columns</p>\n",
       "</div>"
      ],
      "text/plain": [
       "          id country  ccode  year         region  protest  protestnumber  \\\n",
       "0  201990001  Canada     20  1990  North America        1              1   \n",
       "1  201990002  Canada     20  1990  North America        1              2   \n",
       "2  201990003  Canada     20  1990  North America        1              3   \n",
       "3  201990004  Canada     20  1990  North America        1              4   \n",
       "4  201990005  Canada     20  1990  North America        1              5   \n",
       "\n",
       "   startday  startmonth  startyear  ...  participants_int  \\\n",
       "0      15.0         1.0     1990.0  ...            1500.0   \n",
       "1      25.0         6.0     1990.0  ...            1000.0   \n",
       "2       1.0         7.0     1990.0  ...             500.0   \n",
       "3      12.0         7.0     1990.0  ...             550.0   \n",
       "4      14.0         8.0     1990.0  ...             950.0   \n",
       "\n",
       "   new_participants_category                                     demand_combo  \\\n",
       "0                  1000-1999  political behavior, process; labor wage dispute   \n",
       "1                  1000-1999                      political behavior, process   \n",
       "2                    100-999                      political behavior, process   \n",
       "3                    100-999                                  land farm issue   \n",
       "4                    100-999                      political behavior, process   \n",
       "\n",
       "   labor_wage_dispute land_farm_issue police_brutality political_behavior  \\\n",
       "0                True           False            False               True   \n",
       "1               False           False            False               True   \n",
       "2               False           False            False               True   \n",
       "3               False            True            False              False   \n",
       "4               False           False            False               True   \n",
       "\n",
       "  price_increases_tax_policy removal_of_politician social_restrictions  \n",
       "0                      False                 False               False  \n",
       "1                      False                 False               False  \n",
       "2                      False                 False               False  \n",
       "3                      False                 False               False  \n",
       "4                      False                 False               False  \n",
       "\n",
       "[5 rows x 41 columns]"
      ]
     },
     "execution_count": 26,
     "metadata": {},
     "output_type": "execute_result"
    }
   ],
   "source": [
    "mm_data.head()"
   ]
  },
  {
   "cell_type": "markdown",
   "metadata": {},
   "source": [
    "## Looking at state response"
   ]
  },
  {
   "cell_type": "code",
   "execution_count": 27,
   "metadata": {},
   "outputs": [],
   "source": [
    "responses = mm_data[['stateresponse1', 'stateresponse2', 'stateresponse3', 'stateresponse4',\n",
    "       'stateresponse5', 'stateresponse6', 'stateresponse7']]"
   ]
  },
  {
   "cell_type": "code",
   "execution_count": 28,
   "metadata": {},
   "outputs": [
    {
     "data": {
      "text/html": [
       "<div>\n",
       "<style scoped>\n",
       "    .dataframe tbody tr th:only-of-type {\n",
       "        vertical-align: middle;\n",
       "    }\n",
       "\n",
       "    .dataframe tbody tr th {\n",
       "        vertical-align: top;\n",
       "    }\n",
       "\n",
       "    .dataframe thead th {\n",
       "        text-align: right;\n",
       "    }\n",
       "</style>\n",
       "<table border=\"1\" class=\"dataframe\">\n",
       "  <thead>\n",
       "    <tr style=\"text-align: right;\">\n",
       "      <th></th>\n",
       "      <th>stateresponse1</th>\n",
       "      <th>stateresponse2</th>\n",
       "      <th>stateresponse3</th>\n",
       "      <th>stateresponse4</th>\n",
       "      <th>stateresponse5</th>\n",
       "      <th>stateresponse6</th>\n",
       "      <th>stateresponse7</th>\n",
       "    </tr>\n",
       "  </thead>\n",
       "  <tbody>\n",
       "    <tr>\n",
       "      <th>0</th>\n",
       "      <td>ignore</td>\n",
       "      <td>NaN</td>\n",
       "      <td>NaN</td>\n",
       "      <td>NaN</td>\n",
       "      <td>NaN</td>\n",
       "      <td>NaN</td>\n",
       "      <td>NaN</td>\n",
       "    </tr>\n",
       "    <tr>\n",
       "      <th>1</th>\n",
       "      <td>ignore</td>\n",
       "      <td>NaN</td>\n",
       "      <td>NaN</td>\n",
       "      <td>NaN</td>\n",
       "      <td>NaN</td>\n",
       "      <td>NaN</td>\n",
       "      <td>NaN</td>\n",
       "    </tr>\n",
       "    <tr>\n",
       "      <th>2</th>\n",
       "      <td>ignore</td>\n",
       "      <td>NaN</td>\n",
       "      <td>NaN</td>\n",
       "      <td>NaN</td>\n",
       "      <td>NaN</td>\n",
       "      <td>NaN</td>\n",
       "      <td>NaN</td>\n",
       "    </tr>\n",
       "    <tr>\n",
       "      <th>3</th>\n",
       "      <td>accomodation</td>\n",
       "      <td>NaN</td>\n",
       "      <td>NaN</td>\n",
       "      <td>NaN</td>\n",
       "      <td>NaN</td>\n",
       "      <td>NaN</td>\n",
       "      <td>NaN</td>\n",
       "    </tr>\n",
       "    <tr>\n",
       "      <th>4</th>\n",
       "      <td>crowd dispersal</td>\n",
       "      <td>arrests</td>\n",
       "      <td>accomodation</td>\n",
       "      <td>NaN</td>\n",
       "      <td>NaN</td>\n",
       "      <td>NaN</td>\n",
       "      <td>NaN</td>\n",
       "    </tr>\n",
       "  </tbody>\n",
       "</table>\n",
       "</div>"
      ],
      "text/plain": [
       "    stateresponse1 stateresponse2 stateresponse3 stateresponse4  \\\n",
       "0           ignore            NaN            NaN            NaN   \n",
       "1           ignore            NaN            NaN            NaN   \n",
       "2           ignore            NaN            NaN            NaN   \n",
       "3     accomodation            NaN            NaN            NaN   \n",
       "4  crowd dispersal        arrests   accomodation            NaN   \n",
       "\n",
       "  stateresponse5 stateresponse6 stateresponse7  \n",
       "0            NaN            NaN            NaN  \n",
       "1            NaN            NaN            NaN  \n",
       "2            NaN            NaN            NaN  \n",
       "3            NaN            NaN            NaN  \n",
       "4            NaN            NaN            NaN  "
      ]
     },
     "execution_count": 28,
     "metadata": {},
     "output_type": "execute_result"
    }
   ],
   "source": [
    "responses.head()"
   ]
  },
  {
   "cell_type": "markdown",
   "metadata": {},
   "source": [
    "## Combining state responses into 1 column"
   ]
  },
  {
   "cell_type": "code",
   "execution_count": 29,
   "metadata": {},
   "outputs": [],
   "source": [
    "#Note: State responses are uniform across columns\n",
    "mm_data['response_combo'] = responses.stack().groupby(level=0).apply(', '.join)"
   ]
  },
  {
   "cell_type": "code",
   "execution_count": 30,
   "metadata": {},
   "outputs": [
    {
     "data": {
      "text/html": [
       "<div>\n",
       "<style scoped>\n",
       "    .dataframe tbody tr th:only-of-type {\n",
       "        vertical-align: middle;\n",
       "    }\n",
       "\n",
       "    .dataframe tbody tr th {\n",
       "        vertical-align: top;\n",
       "    }\n",
       "\n",
       "    .dataframe thead th {\n",
       "        text-align: right;\n",
       "    }\n",
       "</style>\n",
       "<table border=\"1\" class=\"dataframe\">\n",
       "  <thead>\n",
       "    <tr style=\"text-align: right;\">\n",
       "      <th></th>\n",
       "      <th>id</th>\n",
       "      <th>country</th>\n",
       "      <th>ccode</th>\n",
       "      <th>year</th>\n",
       "      <th>region</th>\n",
       "      <th>protest</th>\n",
       "      <th>protestnumber</th>\n",
       "      <th>startday</th>\n",
       "      <th>startmonth</th>\n",
       "      <th>startyear</th>\n",
       "      <th>...</th>\n",
       "      <th>new_participants_category</th>\n",
       "      <th>demand_combo</th>\n",
       "      <th>labor_wage_dispute</th>\n",
       "      <th>land_farm_issue</th>\n",
       "      <th>police_brutality</th>\n",
       "      <th>political_behavior</th>\n",
       "      <th>price_increases_tax_policy</th>\n",
       "      <th>removal_of_politician</th>\n",
       "      <th>social_restrictions</th>\n",
       "      <th>response_combo</th>\n",
       "    </tr>\n",
       "  </thead>\n",
       "  <tbody>\n",
       "    <tr>\n",
       "      <th>0</th>\n",
       "      <td>201990001</td>\n",
       "      <td>Canada</td>\n",
       "      <td>20</td>\n",
       "      <td>1990</td>\n",
       "      <td>North America</td>\n",
       "      <td>1</td>\n",
       "      <td>1</td>\n",
       "      <td>15.0</td>\n",
       "      <td>1.0</td>\n",
       "      <td>1990.0</td>\n",
       "      <td>...</td>\n",
       "      <td>1000-1999</td>\n",
       "      <td>political behavior, process; labor wage dispute</td>\n",
       "      <td>True</td>\n",
       "      <td>False</td>\n",
       "      <td>False</td>\n",
       "      <td>True</td>\n",
       "      <td>False</td>\n",
       "      <td>False</td>\n",
       "      <td>False</td>\n",
       "      <td>ignore</td>\n",
       "    </tr>\n",
       "    <tr>\n",
       "      <th>1</th>\n",
       "      <td>201990002</td>\n",
       "      <td>Canada</td>\n",
       "      <td>20</td>\n",
       "      <td>1990</td>\n",
       "      <td>North America</td>\n",
       "      <td>1</td>\n",
       "      <td>2</td>\n",
       "      <td>25.0</td>\n",
       "      <td>6.0</td>\n",
       "      <td>1990.0</td>\n",
       "      <td>...</td>\n",
       "      <td>1000-1999</td>\n",
       "      <td>political behavior, process</td>\n",
       "      <td>False</td>\n",
       "      <td>False</td>\n",
       "      <td>False</td>\n",
       "      <td>True</td>\n",
       "      <td>False</td>\n",
       "      <td>False</td>\n",
       "      <td>False</td>\n",
       "      <td>ignore</td>\n",
       "    </tr>\n",
       "    <tr>\n",
       "      <th>2</th>\n",
       "      <td>201990003</td>\n",
       "      <td>Canada</td>\n",
       "      <td>20</td>\n",
       "      <td>1990</td>\n",
       "      <td>North America</td>\n",
       "      <td>1</td>\n",
       "      <td>3</td>\n",
       "      <td>1.0</td>\n",
       "      <td>7.0</td>\n",
       "      <td>1990.0</td>\n",
       "      <td>...</td>\n",
       "      <td>100-999</td>\n",
       "      <td>political behavior, process</td>\n",
       "      <td>False</td>\n",
       "      <td>False</td>\n",
       "      <td>False</td>\n",
       "      <td>True</td>\n",
       "      <td>False</td>\n",
       "      <td>False</td>\n",
       "      <td>False</td>\n",
       "      <td>ignore</td>\n",
       "    </tr>\n",
       "    <tr>\n",
       "      <th>3</th>\n",
       "      <td>201990004</td>\n",
       "      <td>Canada</td>\n",
       "      <td>20</td>\n",
       "      <td>1990</td>\n",
       "      <td>North America</td>\n",
       "      <td>1</td>\n",
       "      <td>4</td>\n",
       "      <td>12.0</td>\n",
       "      <td>7.0</td>\n",
       "      <td>1990.0</td>\n",
       "      <td>...</td>\n",
       "      <td>100-999</td>\n",
       "      <td>land farm issue</td>\n",
       "      <td>False</td>\n",
       "      <td>True</td>\n",
       "      <td>False</td>\n",
       "      <td>False</td>\n",
       "      <td>False</td>\n",
       "      <td>False</td>\n",
       "      <td>False</td>\n",
       "      <td>accomodation</td>\n",
       "    </tr>\n",
       "    <tr>\n",
       "      <th>4</th>\n",
       "      <td>201990005</td>\n",
       "      <td>Canada</td>\n",
       "      <td>20</td>\n",
       "      <td>1990</td>\n",
       "      <td>North America</td>\n",
       "      <td>1</td>\n",
       "      <td>5</td>\n",
       "      <td>14.0</td>\n",
       "      <td>8.0</td>\n",
       "      <td>1990.0</td>\n",
       "      <td>...</td>\n",
       "      <td>100-999</td>\n",
       "      <td>political behavior, process</td>\n",
       "      <td>False</td>\n",
       "      <td>False</td>\n",
       "      <td>False</td>\n",
       "      <td>True</td>\n",
       "      <td>False</td>\n",
       "      <td>False</td>\n",
       "      <td>False</td>\n",
       "      <td>crowd dispersal, arrests, accomodation</td>\n",
       "    </tr>\n",
       "  </tbody>\n",
       "</table>\n",
       "<p>5 rows × 42 columns</p>\n",
       "</div>"
      ],
      "text/plain": [
       "          id country  ccode  year         region  protest  protestnumber  \\\n",
       "0  201990001  Canada     20  1990  North America        1              1   \n",
       "1  201990002  Canada     20  1990  North America        1              2   \n",
       "2  201990003  Canada     20  1990  North America        1              3   \n",
       "3  201990004  Canada     20  1990  North America        1              4   \n",
       "4  201990005  Canada     20  1990  North America        1              5   \n",
       "\n",
       "   startday  startmonth  startyear  ...  new_participants_category  \\\n",
       "0      15.0         1.0     1990.0  ...                  1000-1999   \n",
       "1      25.0         6.0     1990.0  ...                  1000-1999   \n",
       "2       1.0         7.0     1990.0  ...                    100-999   \n",
       "3      12.0         7.0     1990.0  ...                    100-999   \n",
       "4      14.0         8.0     1990.0  ...                    100-999   \n",
       "\n",
       "                                      demand_combo  labor_wage_dispute  \\\n",
       "0  political behavior, process; labor wage dispute                True   \n",
       "1                      political behavior, process               False   \n",
       "2                      political behavior, process               False   \n",
       "3                                  land farm issue               False   \n",
       "4                      political behavior, process               False   \n",
       "\n",
       "   land_farm_issue police_brutality political_behavior  \\\n",
       "0            False            False               True   \n",
       "1            False            False               True   \n",
       "2            False            False               True   \n",
       "3             True            False              False   \n",
       "4            False            False               True   \n",
       "\n",
       "  price_increases_tax_policy removal_of_politician social_restrictions  \\\n",
       "0                      False                 False               False   \n",
       "1                      False                 False               False   \n",
       "2                      False                 False               False   \n",
       "3                      False                 False               False   \n",
       "4                      False                 False               False   \n",
       "\n",
       "                           response_combo  \n",
       "0                                  ignore  \n",
       "1                                  ignore  \n",
       "2                                  ignore  \n",
       "3                            accomodation  \n",
       "4  crowd dispersal, arrests, accomodation  \n",
       "\n",
       "[5 rows x 42 columns]"
      ]
     },
     "execution_count": 30,
     "metadata": {},
     "output_type": "execute_result"
    }
   ],
   "source": [
    "mm_data.head()"
   ]
  },
  {
   "cell_type": "code",
   "execution_count": 31,
   "metadata": {},
   "outputs": [
    {
     "data": {
      "text/plain": [
       "pandas.core.series.Series"
      ]
     },
     "execution_count": 31,
     "metadata": {},
     "output_type": "execute_result"
    }
   ],
   "source": [
    "type(mm_data['response_combo'])"
   ]
  },
  {
   "cell_type": "code",
   "execution_count": 32,
   "metadata": {},
   "outputs": [
    {
     "data": {
      "text/plain": [
       "str"
      ]
     },
     "execution_count": 32,
     "metadata": {},
     "output_type": "execute_result"
    }
   ],
   "source": [
    "type(mm_data.loc[0,'response_combo'])"
   ]
  },
  {
   "cell_type": "markdown",
   "metadata": {},
   "source": [
    "## State First and Last response"
   ]
  },
  {
   "cell_type": "code",
   "execution_count": 33,
   "metadata": {},
   "outputs": [],
   "source": [
    "state_response = mm_data['response_combo']"
   ]
  },
  {
   "cell_type": "code",
   "execution_count": 34,
   "metadata": {
    "scrolled": true
   },
   "outputs": [
    {
     "data": {
      "text/plain": [
       "0                                    ignore\n",
       "1                                    ignore\n",
       "2                                    ignore\n",
       "3                              accomodation\n",
       "4    crowd dispersal, arrests, accomodation\n",
       "Name: response_combo, dtype: object"
      ]
     },
     "execution_count": 34,
     "metadata": {},
     "output_type": "execute_result"
    }
   ],
   "source": [
    "state_response.head()"
   ]
  },
  {
   "cell_type": "code",
   "execution_count": 35,
   "metadata": {},
   "outputs": [
    {
     "data": {
      "text/plain": [
       "Int64Index([    0,     1,     2,     3,     4,     5,     6,     7,     8,\n",
       "                9,\n",
       "            ...\n",
       "            16353, 16354, 16355, 16356, 16357, 16358, 16359, 16360, 16361,\n",
       "            16362],\n",
       "           dtype='int64', length=16363)"
      ]
     },
     "execution_count": 35,
     "metadata": {},
     "output_type": "execute_result"
    }
   ],
   "source": [
    "state_response.index"
   ]
  },
  {
   "cell_type": "code",
   "execution_count": 36,
   "metadata": {
    "scrolled": true
   },
   "outputs": [],
   "source": [
    "mm_data['first_response']= mm_data['response_combo'].str.split().str[0]"
   ]
  },
  {
   "cell_type": "code",
   "execution_count": 37,
   "metadata": {},
   "outputs": [
    {
     "data": {
      "text/plain": [
       "ignore           6873\n",
       "crowd            3613\n",
       "ignore,          1061\n",
       "accomodation      744\n",
       "arrests,          527\n",
       "arrests           522\n",
       "shootings,        300\n",
       "accomodation,     193\n",
       ".                 193\n",
       "beatings,         177\n",
       "killings,         129\n",
       "beatings          124\n",
       "shootings         115\n",
       "killings          107\n",
       "Name: first_response, dtype: int64"
      ]
     },
     "execution_count": 37,
     "metadata": {},
     "output_type": "execute_result"
    }
   ],
   "source": [
    "mm_data['first_response'].value_counts()"
   ]
  },
  {
   "cell_type": "code",
   "execution_count": 38,
   "metadata": {
    "scrolled": true
   },
   "outputs": [],
   "source": [
    "mm_data['last_response']= mm_data['response_combo'].str.split().str[-1]"
   ]
  },
  {
   "cell_type": "code",
   "execution_count": 39,
   "metadata": {},
   "outputs": [
    {
     "data": {
      "text/plain": [
       "ignore          6904\n",
       "dispersal       2562\n",
       ".               1787\n",
       "arrests         1222\n",
       "accomodation    1198\n",
       "killings         391\n",
       "beatings         353\n",
       "shootings        261\n",
       "Name: last_response, dtype: int64"
      ]
     },
     "execution_count": 39,
     "metadata": {},
     "output_type": "execute_result"
    }
   ],
   "source": [
    "mm_data['last_response'].value_counts()"
   ]
  },
  {
   "cell_type": "markdown",
   "metadata": {},
   "source": [
    "## Making new columns for each response 0/1"
   ]
  },
  {
   "cell_type": "code",
   "execution_count": 40,
   "metadata": {},
   "outputs": [],
   "source": [
    "mm_data['accomodation'] = mm_data.response_combo.str.contains('accomodation').astype('category')"
   ]
  },
  {
   "cell_type": "code",
   "execution_count": 41,
   "metadata": {},
   "outputs": [],
   "source": [
    "mm_data['arrests'] = mm_data.response_combo.str.contains('arrests').astype('category')"
   ]
  },
  {
   "cell_type": "code",
   "execution_count": 42,
   "metadata": {},
   "outputs": [],
   "source": [
    "mm_data['beatings'] = mm_data.response_combo.str.contains('beatings').astype('category')"
   ]
  },
  {
   "cell_type": "code",
   "execution_count": 43,
   "metadata": {},
   "outputs": [],
   "source": [
    "mm_data['crowd_dispersal'] = mm_data.response_combo.str.contains('crowd dispersal').astype('category')"
   ]
  },
  {
   "cell_type": "code",
   "execution_count": 44,
   "metadata": {},
   "outputs": [],
   "source": [
    "mm_data['ignore'] = mm_data.response_combo.str.contains('ignore').astype('category')"
   ]
  },
  {
   "cell_type": "code",
   "execution_count": 45,
   "metadata": {},
   "outputs": [],
   "source": [
    "mm_data['killings'] = mm_data.response_combo.str.contains('killings').astype('category')"
   ]
  },
  {
   "cell_type": "code",
   "execution_count": 46,
   "metadata": {},
   "outputs": [],
   "source": [
    "mm_data['shootings'] = mm_data.response_combo.str.contains('shootings').astype('category')"
   ]
  },
  {
   "cell_type": "code",
   "execution_count": 47,
   "metadata": {
    "scrolled": true
   },
   "outputs": [
    {
     "data": {
      "text/html": [
       "<div>\n",
       "<style scoped>\n",
       "    .dataframe tbody tr th:only-of-type {\n",
       "        vertical-align: middle;\n",
       "    }\n",
       "\n",
       "    .dataframe tbody tr th {\n",
       "        vertical-align: top;\n",
       "    }\n",
       "\n",
       "    .dataframe thead th {\n",
       "        text-align: right;\n",
       "    }\n",
       "</style>\n",
       "<table border=\"1\" class=\"dataframe\">\n",
       "  <thead>\n",
       "    <tr style=\"text-align: right;\">\n",
       "      <th></th>\n",
       "      <th>id</th>\n",
       "      <th>country</th>\n",
       "      <th>ccode</th>\n",
       "      <th>year</th>\n",
       "      <th>region</th>\n",
       "      <th>protest</th>\n",
       "      <th>protestnumber</th>\n",
       "      <th>startday</th>\n",
       "      <th>startmonth</th>\n",
       "      <th>startyear</th>\n",
       "      <th>...</th>\n",
       "      <th>response_combo</th>\n",
       "      <th>first_response</th>\n",
       "      <th>last_response</th>\n",
       "      <th>accomodation</th>\n",
       "      <th>arrests</th>\n",
       "      <th>beatings</th>\n",
       "      <th>crowd_dispersal</th>\n",
       "      <th>ignore</th>\n",
       "      <th>killings</th>\n",
       "      <th>shootings</th>\n",
       "    </tr>\n",
       "  </thead>\n",
       "  <tbody>\n",
       "    <tr>\n",
       "      <th>0</th>\n",
       "      <td>201990001</td>\n",
       "      <td>Canada</td>\n",
       "      <td>20</td>\n",
       "      <td>1990</td>\n",
       "      <td>North America</td>\n",
       "      <td>1</td>\n",
       "      <td>1</td>\n",
       "      <td>15.0</td>\n",
       "      <td>1.0</td>\n",
       "      <td>1990.0</td>\n",
       "      <td>...</td>\n",
       "      <td>ignore</td>\n",
       "      <td>ignore</td>\n",
       "      <td>ignore</td>\n",
       "      <td>False</td>\n",
       "      <td>False</td>\n",
       "      <td>False</td>\n",
       "      <td>False</td>\n",
       "      <td>True</td>\n",
       "      <td>False</td>\n",
       "      <td>False</td>\n",
       "    </tr>\n",
       "    <tr>\n",
       "      <th>1</th>\n",
       "      <td>201990002</td>\n",
       "      <td>Canada</td>\n",
       "      <td>20</td>\n",
       "      <td>1990</td>\n",
       "      <td>North America</td>\n",
       "      <td>1</td>\n",
       "      <td>2</td>\n",
       "      <td>25.0</td>\n",
       "      <td>6.0</td>\n",
       "      <td>1990.0</td>\n",
       "      <td>...</td>\n",
       "      <td>ignore</td>\n",
       "      <td>ignore</td>\n",
       "      <td>ignore</td>\n",
       "      <td>False</td>\n",
       "      <td>False</td>\n",
       "      <td>False</td>\n",
       "      <td>False</td>\n",
       "      <td>True</td>\n",
       "      <td>False</td>\n",
       "      <td>False</td>\n",
       "    </tr>\n",
       "    <tr>\n",
       "      <th>2</th>\n",
       "      <td>201990003</td>\n",
       "      <td>Canada</td>\n",
       "      <td>20</td>\n",
       "      <td>1990</td>\n",
       "      <td>North America</td>\n",
       "      <td>1</td>\n",
       "      <td>3</td>\n",
       "      <td>1.0</td>\n",
       "      <td>7.0</td>\n",
       "      <td>1990.0</td>\n",
       "      <td>...</td>\n",
       "      <td>ignore</td>\n",
       "      <td>ignore</td>\n",
       "      <td>ignore</td>\n",
       "      <td>False</td>\n",
       "      <td>False</td>\n",
       "      <td>False</td>\n",
       "      <td>False</td>\n",
       "      <td>True</td>\n",
       "      <td>False</td>\n",
       "      <td>False</td>\n",
       "    </tr>\n",
       "    <tr>\n",
       "      <th>3</th>\n",
       "      <td>201990004</td>\n",
       "      <td>Canada</td>\n",
       "      <td>20</td>\n",
       "      <td>1990</td>\n",
       "      <td>North America</td>\n",
       "      <td>1</td>\n",
       "      <td>4</td>\n",
       "      <td>12.0</td>\n",
       "      <td>7.0</td>\n",
       "      <td>1990.0</td>\n",
       "      <td>...</td>\n",
       "      <td>accomodation</td>\n",
       "      <td>accomodation</td>\n",
       "      <td>accomodation</td>\n",
       "      <td>True</td>\n",
       "      <td>False</td>\n",
       "      <td>False</td>\n",
       "      <td>False</td>\n",
       "      <td>False</td>\n",
       "      <td>False</td>\n",
       "      <td>False</td>\n",
       "    </tr>\n",
       "    <tr>\n",
       "      <th>4</th>\n",
       "      <td>201990005</td>\n",
       "      <td>Canada</td>\n",
       "      <td>20</td>\n",
       "      <td>1990</td>\n",
       "      <td>North America</td>\n",
       "      <td>1</td>\n",
       "      <td>5</td>\n",
       "      <td>14.0</td>\n",
       "      <td>8.0</td>\n",
       "      <td>1990.0</td>\n",
       "      <td>...</td>\n",
       "      <td>crowd dispersal, arrests, accomodation</td>\n",
       "      <td>crowd</td>\n",
       "      <td>accomodation</td>\n",
       "      <td>True</td>\n",
       "      <td>True</td>\n",
       "      <td>False</td>\n",
       "      <td>True</td>\n",
       "      <td>False</td>\n",
       "      <td>False</td>\n",
       "      <td>False</td>\n",
       "    </tr>\n",
       "  </tbody>\n",
       "</table>\n",
       "<p>5 rows × 51 columns</p>\n",
       "</div>"
      ],
      "text/plain": [
       "          id country  ccode  year         region  protest  protestnumber  \\\n",
       "0  201990001  Canada     20  1990  North America        1              1   \n",
       "1  201990002  Canada     20  1990  North America        1              2   \n",
       "2  201990003  Canada     20  1990  North America        1              3   \n",
       "3  201990004  Canada     20  1990  North America        1              4   \n",
       "4  201990005  Canada     20  1990  North America        1              5   \n",
       "\n",
       "   startday  startmonth  startyear  ...  \\\n",
       "0      15.0         1.0     1990.0  ...   \n",
       "1      25.0         6.0     1990.0  ...   \n",
       "2       1.0         7.0     1990.0  ...   \n",
       "3      12.0         7.0     1990.0  ...   \n",
       "4      14.0         8.0     1990.0  ...   \n",
       "\n",
       "                           response_combo  first_response  last_response  \\\n",
       "0                                  ignore          ignore         ignore   \n",
       "1                                  ignore          ignore         ignore   \n",
       "2                                  ignore          ignore         ignore   \n",
       "3                            accomodation    accomodation   accomodation   \n",
       "4  crowd dispersal, arrests, accomodation           crowd   accomodation   \n",
       "\n",
       "   accomodation arrests beatings crowd_dispersal ignore killings shootings  \n",
       "0         False   False    False           False   True    False     False  \n",
       "1         False   False    False           False   True    False     False  \n",
       "2         False   False    False           False   True    False     False  \n",
       "3          True   False    False           False  False    False     False  \n",
       "4          True    True    False            True  False    False     False  \n",
       "\n",
       "[5 rows x 51 columns]"
      ]
     },
     "execution_count": 47,
     "metadata": {},
     "output_type": "execute_result"
    }
   ],
   "source": [
    "mm_data.head()"
   ]
  },
  {
   "cell_type": "markdown",
   "metadata": {},
   "source": [
    "## Counting demands and responses"
   ]
  },
  {
   "cell_type": "code",
   "execution_count": 48,
   "metadata": {},
   "outputs": [],
   "source": [
    "new_demands = mm_data[['labor_wage_dispute','land_farm_issue','police_brutality','political_behavior','price_increases_tax_policy','removal_of_politician','social_restrictions']]"
   ]
  },
  {
   "cell_type": "code",
   "execution_count": 49,
   "metadata": {
    "scrolled": true
   },
   "outputs": [],
   "source": [
    "mm_data['demands_count'] = new_demands.sum(axis=1).astype('int')"
   ]
  },
  {
   "cell_type": "code",
   "execution_count": 50,
   "metadata": {
    "scrolled": true
   },
   "outputs": [],
   "source": [
    "new_responses = mm_data[['accomodation','arrests','beatings','crowd_dispersal','ignore', 'killings','shootings']]"
   ]
  },
  {
   "cell_type": "code",
   "execution_count": 51,
   "metadata": {},
   "outputs": [],
   "source": [
    "mm_data['responses_count'] = new_responses.sum(axis=1).astype('int')"
   ]
  },
  {
   "cell_type": "code",
   "execution_count": 52,
   "metadata": {
    "scrolled": true
   },
   "outputs": [
    {
     "data": {
      "text/html": [
       "<div>\n",
       "<style scoped>\n",
       "    .dataframe tbody tr th:only-of-type {\n",
       "        vertical-align: middle;\n",
       "    }\n",
       "\n",
       "    .dataframe tbody tr th {\n",
       "        vertical-align: top;\n",
       "    }\n",
       "\n",
       "    .dataframe thead th {\n",
       "        text-align: right;\n",
       "    }\n",
       "</style>\n",
       "<table border=\"1\" class=\"dataframe\">\n",
       "  <thead>\n",
       "    <tr style=\"text-align: right;\">\n",
       "      <th></th>\n",
       "      <th>id</th>\n",
       "      <th>country</th>\n",
       "      <th>ccode</th>\n",
       "      <th>year</th>\n",
       "      <th>region</th>\n",
       "      <th>protest</th>\n",
       "      <th>protestnumber</th>\n",
       "      <th>startday</th>\n",
       "      <th>startmonth</th>\n",
       "      <th>startyear</th>\n",
       "      <th>...</th>\n",
       "      <th>last_response</th>\n",
       "      <th>accomodation</th>\n",
       "      <th>arrests</th>\n",
       "      <th>beatings</th>\n",
       "      <th>crowd_dispersal</th>\n",
       "      <th>ignore</th>\n",
       "      <th>killings</th>\n",
       "      <th>shootings</th>\n",
       "      <th>demands_count</th>\n",
       "      <th>responses_count</th>\n",
       "    </tr>\n",
       "  </thead>\n",
       "  <tbody>\n",
       "    <tr>\n",
       "      <th>0</th>\n",
       "      <td>201990001</td>\n",
       "      <td>Canada</td>\n",
       "      <td>20</td>\n",
       "      <td>1990</td>\n",
       "      <td>North America</td>\n",
       "      <td>1</td>\n",
       "      <td>1</td>\n",
       "      <td>15.0</td>\n",
       "      <td>1.0</td>\n",
       "      <td>1990.0</td>\n",
       "      <td>...</td>\n",
       "      <td>ignore</td>\n",
       "      <td>False</td>\n",
       "      <td>False</td>\n",
       "      <td>False</td>\n",
       "      <td>False</td>\n",
       "      <td>True</td>\n",
       "      <td>False</td>\n",
       "      <td>False</td>\n",
       "      <td>2</td>\n",
       "      <td>1</td>\n",
       "    </tr>\n",
       "    <tr>\n",
       "      <th>1</th>\n",
       "      <td>201990002</td>\n",
       "      <td>Canada</td>\n",
       "      <td>20</td>\n",
       "      <td>1990</td>\n",
       "      <td>North America</td>\n",
       "      <td>1</td>\n",
       "      <td>2</td>\n",
       "      <td>25.0</td>\n",
       "      <td>6.0</td>\n",
       "      <td>1990.0</td>\n",
       "      <td>...</td>\n",
       "      <td>ignore</td>\n",
       "      <td>False</td>\n",
       "      <td>False</td>\n",
       "      <td>False</td>\n",
       "      <td>False</td>\n",
       "      <td>True</td>\n",
       "      <td>False</td>\n",
       "      <td>False</td>\n",
       "      <td>1</td>\n",
       "      <td>1</td>\n",
       "    </tr>\n",
       "    <tr>\n",
       "      <th>2</th>\n",
       "      <td>201990003</td>\n",
       "      <td>Canada</td>\n",
       "      <td>20</td>\n",
       "      <td>1990</td>\n",
       "      <td>North America</td>\n",
       "      <td>1</td>\n",
       "      <td>3</td>\n",
       "      <td>1.0</td>\n",
       "      <td>7.0</td>\n",
       "      <td>1990.0</td>\n",
       "      <td>...</td>\n",
       "      <td>ignore</td>\n",
       "      <td>False</td>\n",
       "      <td>False</td>\n",
       "      <td>False</td>\n",
       "      <td>False</td>\n",
       "      <td>True</td>\n",
       "      <td>False</td>\n",
       "      <td>False</td>\n",
       "      <td>1</td>\n",
       "      <td>1</td>\n",
       "    </tr>\n",
       "    <tr>\n",
       "      <th>3</th>\n",
       "      <td>201990004</td>\n",
       "      <td>Canada</td>\n",
       "      <td>20</td>\n",
       "      <td>1990</td>\n",
       "      <td>North America</td>\n",
       "      <td>1</td>\n",
       "      <td>4</td>\n",
       "      <td>12.0</td>\n",
       "      <td>7.0</td>\n",
       "      <td>1990.0</td>\n",
       "      <td>...</td>\n",
       "      <td>accomodation</td>\n",
       "      <td>True</td>\n",
       "      <td>False</td>\n",
       "      <td>False</td>\n",
       "      <td>False</td>\n",
       "      <td>False</td>\n",
       "      <td>False</td>\n",
       "      <td>False</td>\n",
       "      <td>1</td>\n",
       "      <td>1</td>\n",
       "    </tr>\n",
       "    <tr>\n",
       "      <th>4</th>\n",
       "      <td>201990005</td>\n",
       "      <td>Canada</td>\n",
       "      <td>20</td>\n",
       "      <td>1990</td>\n",
       "      <td>North America</td>\n",
       "      <td>1</td>\n",
       "      <td>5</td>\n",
       "      <td>14.0</td>\n",
       "      <td>8.0</td>\n",
       "      <td>1990.0</td>\n",
       "      <td>...</td>\n",
       "      <td>accomodation</td>\n",
       "      <td>True</td>\n",
       "      <td>True</td>\n",
       "      <td>False</td>\n",
       "      <td>True</td>\n",
       "      <td>False</td>\n",
       "      <td>False</td>\n",
       "      <td>False</td>\n",
       "      <td>1</td>\n",
       "      <td>3</td>\n",
       "    </tr>\n",
       "  </tbody>\n",
       "</table>\n",
       "<p>5 rows × 53 columns</p>\n",
       "</div>"
      ],
      "text/plain": [
       "          id country  ccode  year         region  protest  protestnumber  \\\n",
       "0  201990001  Canada     20  1990  North America        1              1   \n",
       "1  201990002  Canada     20  1990  North America        1              2   \n",
       "2  201990003  Canada     20  1990  North America        1              3   \n",
       "3  201990004  Canada     20  1990  North America        1              4   \n",
       "4  201990005  Canada     20  1990  North America        1              5   \n",
       "\n",
       "   startday  startmonth  startyear  ...  last_response  accomodation  arrests  \\\n",
       "0      15.0         1.0     1990.0  ...         ignore         False    False   \n",
       "1      25.0         6.0     1990.0  ...         ignore         False    False   \n",
       "2       1.0         7.0     1990.0  ...         ignore         False    False   \n",
       "3      12.0         7.0     1990.0  ...   accomodation          True    False   \n",
       "4      14.0         8.0     1990.0  ...   accomodation          True     True   \n",
       "\n",
       "   beatings crowd_dispersal ignore killings shootings demands_count  \\\n",
       "0     False           False   True    False     False             2   \n",
       "1     False           False   True    False     False             1   \n",
       "2     False           False   True    False     False             1   \n",
       "3     False           False  False    False     False             1   \n",
       "4     False            True  False    False     False             1   \n",
       "\n",
       "  responses_count  \n",
       "0               1  \n",
       "1               1  \n",
       "2               1  \n",
       "3               1  \n",
       "4               3  \n",
       "\n",
       "[5 rows x 53 columns]"
      ]
     },
     "execution_count": 52,
     "metadata": {},
     "output_type": "execute_result"
    }
   ],
   "source": [
    "mm_data.head()"
   ]
  },
  {
   "cell_type": "code",
   "execution_count": 53,
   "metadata": {
    "scrolled": false
   },
   "outputs": [
    {
     "data": {
      "text/html": [
       "<div>\n",
       "<style scoped>\n",
       "    .dataframe tbody tr th:only-of-type {\n",
       "        vertical-align: middle;\n",
       "    }\n",
       "\n",
       "    .dataframe tbody tr th {\n",
       "        vertical-align: top;\n",
       "    }\n",
       "\n",
       "    .dataframe thead th {\n",
       "        text-align: right;\n",
       "    }\n",
       "</style>\n",
       "<table border=\"1\" class=\"dataframe\">\n",
       "  <thead>\n",
       "    <tr style=\"text-align: right;\">\n",
       "      <th></th>\n",
       "      <th>id</th>\n",
       "      <th>participants</th>\n",
       "      <th>participants_category</th>\n",
       "      <th>participants_int</th>\n",
       "      <th>demands_count</th>\n",
       "      <th>responses_count</th>\n",
       "    </tr>\n",
       "  </thead>\n",
       "  <tbody>\n",
       "    <tr>\n",
       "      <th>0</th>\n",
       "      <td>201990001</td>\n",
       "      <td>1000s</td>\n",
       "      <td>NaN</td>\n",
       "      <td>1500.0</td>\n",
       "      <td>2</td>\n",
       "      <td>1</td>\n",
       "    </tr>\n",
       "    <tr>\n",
       "      <th>1</th>\n",
       "      <td>201990002</td>\n",
       "      <td>1000</td>\n",
       "      <td>NaN</td>\n",
       "      <td>1000.0</td>\n",
       "      <td>1</td>\n",
       "      <td>1</td>\n",
       "    </tr>\n",
       "    <tr>\n",
       "      <th>2</th>\n",
       "      <td>201990003</td>\n",
       "      <td>500</td>\n",
       "      <td>NaN</td>\n",
       "      <td>500.0</td>\n",
       "      <td>1</td>\n",
       "      <td>1</td>\n",
       "    </tr>\n",
       "    <tr>\n",
       "      <th>3</th>\n",
       "      <td>201990004</td>\n",
       "      <td>100s</td>\n",
       "      <td>NaN</td>\n",
       "      <td>550.0</td>\n",
       "      <td>1</td>\n",
       "      <td>1</td>\n",
       "    </tr>\n",
       "    <tr>\n",
       "      <th>4</th>\n",
       "      <td>201990005</td>\n",
       "      <td>950</td>\n",
       "      <td>NaN</td>\n",
       "      <td>950.0</td>\n",
       "      <td>1</td>\n",
       "      <td>3</td>\n",
       "    </tr>\n",
       "    <tr>\n",
       "      <th>...</th>\n",
       "      <td>...</td>\n",
       "      <td>...</td>\n",
       "      <td>...</td>\n",
       "      <td>...</td>\n",
       "      <td>...</td>\n",
       "      <td>...</td>\n",
       "    </tr>\n",
       "    <tr>\n",
       "      <th>16358</th>\n",
       "      <td>9102017001</td>\n",
       "      <td>50+</td>\n",
       "      <td>50-99</td>\n",
       "      <td>75.0</td>\n",
       "      <td>2</td>\n",
       "      <td>1</td>\n",
       "    </tr>\n",
       "    <tr>\n",
       "      <th>16359</th>\n",
       "      <td>9102017002</td>\n",
       "      <td>50+</td>\n",
       "      <td>50-99</td>\n",
       "      <td>75.0</td>\n",
       "      <td>1</td>\n",
       "      <td>1</td>\n",
       "    </tr>\n",
       "    <tr>\n",
       "      <th>16360</th>\n",
       "      <td>9102017003</td>\n",
       "      <td>About 100</td>\n",
       "      <td>100-999</td>\n",
       "      <td>100.0</td>\n",
       "      <td>1</td>\n",
       "      <td>1</td>\n",
       "    </tr>\n",
       "    <tr>\n",
       "      <th>16361</th>\n",
       "      <td>9102018000</td>\n",
       "      <td>NaN</td>\n",
       "      <td>NaN</td>\n",
       "      <td>NaN</td>\n",
       "      <td>0</td>\n",
       "      <td>0</td>\n",
       "    </tr>\n",
       "    <tr>\n",
       "      <th>16362</th>\n",
       "      <td>9102019000</td>\n",
       "      <td>NaN</td>\n",
       "      <td>NaN</td>\n",
       "      <td>NaN</td>\n",
       "      <td>0</td>\n",
       "      <td>0</td>\n",
       "    </tr>\n",
       "  </tbody>\n",
       "</table>\n",
       "<p>16363 rows × 6 columns</p>\n",
       "</div>"
      ],
      "text/plain": [
       "               id participants participants_category  participants_int  \\\n",
       "0       201990001        1000s                   NaN            1500.0   \n",
       "1       201990002         1000                   NaN            1000.0   \n",
       "2       201990003          500                   NaN             500.0   \n",
       "3       201990004         100s                   NaN             550.0   \n",
       "4       201990005          950                   NaN             950.0   \n",
       "...           ...          ...                   ...               ...   \n",
       "16358  9102017001          50+                 50-99              75.0   \n",
       "16359  9102017002          50+                 50-99              75.0   \n",
       "16360  9102017003    About 100               100-999             100.0   \n",
       "16361  9102018000          NaN                   NaN               NaN   \n",
       "16362  9102019000          NaN                   NaN               NaN   \n",
       "\n",
       "       demands_count  responses_count  \n",
       "0                  2                1  \n",
       "1                  1                1  \n",
       "2                  1                1  \n",
       "3                  1                1  \n",
       "4                  1                3  \n",
       "...              ...              ...  \n",
       "16358              2                1  \n",
       "16359              1                1  \n",
       "16360              1                1  \n",
       "16361              0                0  \n",
       "16362              0                0  \n",
       "\n",
       "[16363 rows x 6 columns]"
      ]
     },
     "execution_count": 53,
     "metadata": {},
     "output_type": "execute_result"
    }
   ],
   "source": [
    "mm_data[['id','participants','participants_category', 'participants_int','demands_count', 'responses_count' ]]"
   ]
  },
  {
   "cell_type": "code",
   "execution_count": 54,
   "metadata": {},
   "outputs": [
    {
     "data": {
      "text/plain": [
       "0.8852288700116115"
      ]
     },
     "execution_count": 54,
     "metadata": {},
     "output_type": "execute_result"
    }
   ],
   "source": [
    "(mm_data['responses_count'] > 0).mean()"
   ]
  },
  {
   "cell_type": "code",
   "execution_count": 55,
   "metadata": {},
   "outputs": [],
   "source": [
    "## Setting Dates"
   ]
  },
  {
   "cell_type": "code",
   "execution_count": 56,
   "metadata": {},
   "outputs": [],
   "source": [
    "mm_data['start_date'] = pd.to_datetime((mm_data.startyear*10000+mm_data.startmonth*100+mm_data.startday),format='%Y%m%d')"
   ]
  },
  {
   "cell_type": "code",
   "execution_count": 57,
   "metadata": {},
   "outputs": [],
   "source": [
    "mm_data['end_date'] = pd.to_datetime((mm_data.endyear*10000+mm_data.endmonth*100+mm_data.endday),format='%Y%m%d')"
   ]
  },
  {
   "cell_type": "code",
   "execution_count": 58,
   "metadata": {},
   "outputs": [
    {
     "data": {
      "text/plain": [
       "0       1990-01-15\n",
       "1       1990-06-25\n",
       "2       1990-07-01\n",
       "3       1990-09-06\n",
       "4       1990-08-15\n",
       "           ...    \n",
       "16358   2017-06-15\n",
       "16359   2017-07-15\n",
       "16360   2017-10-31\n",
       "16361          NaT\n",
       "16362          NaT\n",
       "Name: end_date, Length: 16363, dtype: datetime64[ns]"
      ]
     },
     "execution_count": 58,
     "metadata": {},
     "output_type": "execute_result"
    }
   ],
   "source": [
    "mm_data['end_date']"
   ]
  },
  {
   "cell_type": "code",
   "execution_count": null,
   "metadata": {},
   "outputs": [],
   "source": []
  },
  {
   "cell_type": "code",
   "execution_count": null,
   "metadata": {},
   "outputs": [],
   "source": []
  },
  {
   "cell_type": "markdown",
   "metadata": {},
   "source": [
    "## Some Visualizations"
   ]
  },
  {
   "cell_type": "code",
   "execution_count": 59,
   "metadata": {
    "scrolled": true
   },
   "outputs": [
    {
     "data": {
      "text/plain": [
       "<bound method DataFrame.info of                id           country  ccode  year         region  protest  \\\n",
       "0       201990001            Canada     20  1990  North America        1   \n",
       "1       201990002            Canada     20  1990  North America        1   \n",
       "2       201990003            Canada     20  1990  North America        1   \n",
       "3       201990004            Canada     20  1990  North America        1   \n",
       "4       201990005            Canada     20  1990  North America        1   \n",
       "...           ...               ...    ...   ...            ...      ...   \n",
       "16358  9102017001  Papua New Guinea    910  2017        Oceania        1   \n",
       "16359  9102017002  Papua New Guinea    910  2017        Oceania        1   \n",
       "16360  9102017003  Papua New Guinea    910  2017        Oceania        1   \n",
       "16361  9102018000  Papua New Guinea    910  2018        Oceania        0   \n",
       "16362  9102019000  Papua New Guinea    910  2019        Oceania        0   \n",
       "\n",
       "       protestnumber  startday  startmonth  startyear  ...  arrests  beatings  \\\n",
       "0                  1      15.0         1.0     1990.0  ...    False     False   \n",
       "1                  2      25.0         6.0     1990.0  ...    False     False   \n",
       "2                  3       1.0         7.0     1990.0  ...    False     False   \n",
       "3                  4      12.0         7.0     1990.0  ...    False     False   \n",
       "4                  5      14.0         8.0     1990.0  ...     True     False   \n",
       "...              ...       ...         ...        ...  ...      ...       ...   \n",
       "16358              1      15.0         6.0     2017.0  ...    False     False   \n",
       "16359              2      15.0         7.0     2017.0  ...    False     False   \n",
       "16360              3      31.0        10.0     2017.0  ...    False     False   \n",
       "16361              0       NaN         NaN        NaN  ...      NaN       NaN   \n",
       "16362              0       NaN         NaN        NaN  ...    False     False   \n",
       "\n",
       "       crowd_dispersal  ignore killings shootings demands_count  \\\n",
       "0                False    True    False     False             2   \n",
       "1                False    True    False     False             1   \n",
       "2                False    True    False     False             1   \n",
       "3                False   False    False     False             1   \n",
       "4                 True   False    False     False             1   \n",
       "...                ...     ...      ...       ...           ...   \n",
       "16358            False   False    False     False             2   \n",
       "16359             True   False    False     False             1   \n",
       "16360            False    True    False     False             1   \n",
       "16361              NaN     NaN      NaN       NaN             0   \n",
       "16362            False   False    False     False             0   \n",
       "\n",
       "      responses_count start_date   end_date  \n",
       "0                   1 1990-01-15 1990-01-15  \n",
       "1                   1 1990-06-25 1990-06-25  \n",
       "2                   1 1990-07-01 1990-07-01  \n",
       "3                   1 1990-07-12 1990-09-06  \n",
       "4                   3 1990-08-14 1990-08-15  \n",
       "...               ...        ...        ...  \n",
       "16358               1 2017-06-15 2017-06-15  \n",
       "16359               1 2017-07-15 2017-07-15  \n",
       "16360               1 2017-10-31 2017-10-31  \n",
       "16361               0        NaT        NaT  \n",
       "16362               0        NaT        NaT  \n",
       "\n",
       "[16363 rows x 55 columns]>"
      ]
     },
     "execution_count": 59,
     "metadata": {},
     "output_type": "execute_result"
    }
   ],
   "source": [
    "mm_data.info"
   ]
  },
  {
   "cell_type": "code",
   "execution_count": 60,
   "metadata": {},
   "outputs": [],
   "source": [
    "first_response = mm_data.stateresponse1.value_counts()"
   ]
  },
  {
   "cell_type": "code",
   "execution_count": 61,
   "metadata": {},
   "outputs": [
    {
     "data": {
      "image/png": "[encoded data removed]",
      "text/plain": [
       "<Figure size 864x576 with 1 Axes>"
      ]
     },
     "metadata": {},
     "output_type": "display_data"
    }
   ],
   "source": [
    "first_response.plot(kind='pie',figsize=(12,8),fontsize=12,autopct='%1.1f%%' )\n",
    "plt.title('State First Response')\n",
    "plt.show()"
   ]
  },
  {
   "cell_type": "code",
   "execution_count": 62,
   "metadata": {},
   "outputs": [
    {
     "data": {
      "image/png": "[encoded data removed]",
      "text/plain": [
       "<Figure size 864x576 with 1 Axes>"
      ]
     },
     "metadata": {},
     "output_type": "display_data"
    }
   ],
   "source": [
    "mm_data['last_response'].value_counts().plot(kind='pie',figsize=(12,8),fontsize=12,autopct='%1.1f%%')\n",
    "plt.title('State Last Response')\n",
    "plt.show()\n"
   ]
  },
  {
   "cell_type": "code",
   "execution_count": 63,
   "metadata": {
    "scrolled": true
   },
   "outputs": [],
   "source": [
    "#profile = ProfileReport(mm_data)\n",
    "#profile.to_widgets()\n",
    "#prof.to_file(output_file='output.html')"
   ]
  },
  {
   "cell_type": "code",
   "execution_count": 64,
   "metadata": {},
   "outputs": [],
   "source": [
    "corrMatrix = mm_data.corr()"
   ]
  },
  {
   "cell_type": "code",
   "execution_count": 65,
   "metadata": {
    "scrolled": false
   },
   "outputs": [
    {
     "data": {
      "image/png": "[encoded data removed]",
      "text/plain": [
       "<Figure size 432x288 with 2 Axes>"
      ]
     },
     "metadata": {
      "needs_background": "light"
     },
     "output_type": "display_data"
    }
   ],
   "source": [
    "sns.heatmap(corrMatrix, annot= False)\n",
    "plt.show()"
   ]
  },
  {
   "cell_type": "code",
   "execution_count": null,
   "metadata": {},
   "outputs": [],
   "source": []
  }
 ],
 "metadata": {
  "kernelspec": {
   "display_name": "Python 3",
   "language": "python",
   "name": "python3"
  },
  "language_info": {
   "codemirror_mode": {
    "name": "ipython",
    "version": 3
   },
   "file_extension": ".py",
   "mimetype": "text/x-python",
   "name": "python",
   "nbconvert_exporter": "python",
   "pygments_lexer": "ipython3",
   "version": "3.8.3"
  }
 },
 "nbformat": 4,
 "nbformat_minor": 4
}
